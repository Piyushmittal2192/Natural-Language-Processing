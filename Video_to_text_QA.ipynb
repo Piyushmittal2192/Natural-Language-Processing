{
  "nbformat": 4,
  "nbformat_minor": 0,
  "metadata": {
    "colab": {
      "name": "Video to text QA.ipynb",
      "provenance": [],
      "collapsed_sections": []
    },
    "kernelspec": {
      "name": "python3",
      "display_name": "Python 3"
    },
    "widgets": {
      "application/vnd.jupyter.widget-state+json": {
        "c48ad7afe9f54429b1c2a3bf878494a5": {
          "model_module": "@jupyter-widgets/controls",
          "model_name": "HBoxModel",
          "state": {
            "_view_name": "HBoxView",
            "_dom_classes": [],
            "_model_name": "HBoxModel",
            "_view_module": "@jupyter-widgets/controls",
            "_model_module_version": "1.5.0",
            "_view_count": null,
            "_view_module_version": "1.5.0",
            "box_style": "",
            "layout": "IPY_MODEL_ea4818a68b3849a39a96e76c21052490",
            "_model_module": "@jupyter-widgets/controls",
            "children": [
              "IPY_MODEL_54d5e748f14645ab921a53899efb81ff",
              "IPY_MODEL_87ca2dc956334f388791946a2bc1569f"
            ]
          }
        },
        "ea4818a68b3849a39a96e76c21052490": {
          "model_module": "@jupyter-widgets/base",
          "model_name": "LayoutModel",
          "state": {
            "_view_name": "LayoutView",
            "grid_template_rows": null,
            "right": null,
            "justify_content": null,
            "_view_module": "@jupyter-widgets/base",
            "overflow": null,
            "_model_module_version": "1.2.0",
            "_view_count": null,
            "flex_flow": null,
            "width": null,
            "min_width": null,
            "border": null,
            "align_items": null,
            "bottom": null,
            "_model_module": "@jupyter-widgets/base",
            "top": null,
            "grid_column": null,
            "overflow_y": null,
            "overflow_x": null,
            "grid_auto_flow": null,
            "grid_area": null,
            "grid_template_columns": null,
            "flex": null,
            "_model_name": "LayoutModel",
            "justify_items": null,
            "grid_row": null,
            "max_height": null,
            "align_content": null,
            "visibility": null,
            "align_self": null,
            "height": null,
            "min_height": null,
            "padding": null,
            "grid_auto_rows": null,
            "grid_gap": null,
            "max_width": null,
            "order": null,
            "_view_module_version": "1.2.0",
            "grid_template_areas": null,
            "object_position": null,
            "object_fit": null,
            "grid_auto_columns": null,
            "margin": null,
            "display": null,
            "left": null
          }
        },
        "54d5e748f14645ab921a53899efb81ff": {
          "model_module": "@jupyter-widgets/controls",
          "model_name": "IntProgressModel",
          "state": {
            "_view_name": "ProgressView",
            "style": "IPY_MODEL_d75ba80b8ca74a3cae438afd92d6ca54",
            "_dom_classes": [],
            "description": "Downloading: 100%",
            "_model_name": "IntProgressModel",
            "bar_style": "success",
            "max": 231508,
            "_view_module": "@jupyter-widgets/controls",
            "_model_module_version": "1.5.0",
            "value": 231508,
            "_view_count": null,
            "_view_module_version": "1.5.0",
            "orientation": "horizontal",
            "min": 0,
            "description_tooltip": null,
            "_model_module": "@jupyter-widgets/controls",
            "layout": "IPY_MODEL_c7699dd7aba14600ae4efce7caa09dc5"
          }
        },
        "87ca2dc956334f388791946a2bc1569f": {
          "model_module": "@jupyter-widgets/controls",
          "model_name": "HTMLModel",
          "state": {
            "_view_name": "HTMLView",
            "style": "IPY_MODEL_10f5a20927a048dfb5a076df36e24e56",
            "_dom_classes": [],
            "description": "",
            "_model_name": "HTMLModel",
            "placeholder": "​",
            "_view_module": "@jupyter-widgets/controls",
            "_model_module_version": "1.5.0",
            "value": " 232k/232k [00:00&lt;00:00, 707kB/s]",
            "_view_count": null,
            "_view_module_version": "1.5.0",
            "description_tooltip": null,
            "_model_module": "@jupyter-widgets/controls",
            "layout": "IPY_MODEL_77ffdb6518d74aa7847f7d3a4819cc86"
          }
        },
        "d75ba80b8ca74a3cae438afd92d6ca54": {
          "model_module": "@jupyter-widgets/controls",
          "model_name": "ProgressStyleModel",
          "state": {
            "_view_name": "StyleView",
            "_model_name": "ProgressStyleModel",
            "description_width": "initial",
            "_view_module": "@jupyter-widgets/base",
            "_model_module_version": "1.5.0",
            "_view_count": null,
            "_view_module_version": "1.2.0",
            "bar_color": null,
            "_model_module": "@jupyter-widgets/controls"
          }
        },
        "c7699dd7aba14600ae4efce7caa09dc5": {
          "model_module": "@jupyter-widgets/base",
          "model_name": "LayoutModel",
          "state": {
            "_view_name": "LayoutView",
            "grid_template_rows": null,
            "right": null,
            "justify_content": null,
            "_view_module": "@jupyter-widgets/base",
            "overflow": null,
            "_model_module_version": "1.2.0",
            "_view_count": null,
            "flex_flow": null,
            "width": null,
            "min_width": null,
            "border": null,
            "align_items": null,
            "bottom": null,
            "_model_module": "@jupyter-widgets/base",
            "top": null,
            "grid_column": null,
            "overflow_y": null,
            "overflow_x": null,
            "grid_auto_flow": null,
            "grid_area": null,
            "grid_template_columns": null,
            "flex": null,
            "_model_name": "LayoutModel",
            "justify_items": null,
            "grid_row": null,
            "max_height": null,
            "align_content": null,
            "visibility": null,
            "align_self": null,
            "height": null,
            "min_height": null,
            "padding": null,
            "grid_auto_rows": null,
            "grid_gap": null,
            "max_width": null,
            "order": null,
            "_view_module_version": "1.2.0",
            "grid_template_areas": null,
            "object_position": null,
            "object_fit": null,
            "grid_auto_columns": null,
            "margin": null,
            "display": null,
            "left": null
          }
        },
        "10f5a20927a048dfb5a076df36e24e56": {
          "model_module": "@jupyter-widgets/controls",
          "model_name": "DescriptionStyleModel",
          "state": {
            "_view_name": "StyleView",
            "_model_name": "DescriptionStyleModel",
            "description_width": "",
            "_view_module": "@jupyter-widgets/base",
            "_model_module_version": "1.5.0",
            "_view_count": null,
            "_view_module_version": "1.2.0",
            "_model_module": "@jupyter-widgets/controls"
          }
        },
        "77ffdb6518d74aa7847f7d3a4819cc86": {
          "model_module": "@jupyter-widgets/base",
          "model_name": "LayoutModel",
          "state": {
            "_view_name": "LayoutView",
            "grid_template_rows": null,
            "right": null,
            "justify_content": null,
            "_view_module": "@jupyter-widgets/base",
            "overflow": null,
            "_model_module_version": "1.2.0",
            "_view_count": null,
            "flex_flow": null,
            "width": null,
            "min_width": null,
            "border": null,
            "align_items": null,
            "bottom": null,
            "_model_module": "@jupyter-widgets/base",
            "top": null,
            "grid_column": null,
            "overflow_y": null,
            "overflow_x": null,
            "grid_auto_flow": null,
            "grid_area": null,
            "grid_template_columns": null,
            "flex": null,
            "_model_name": "LayoutModel",
            "justify_items": null,
            "grid_row": null,
            "max_height": null,
            "align_content": null,
            "visibility": null,
            "align_self": null,
            "height": null,
            "min_height": null,
            "padding": null,
            "grid_auto_rows": null,
            "grid_gap": null,
            "max_width": null,
            "order": null,
            "_view_module_version": "1.2.0",
            "grid_template_areas": null,
            "object_position": null,
            "object_fit": null,
            "grid_auto_columns": null,
            "margin": null,
            "display": null,
            "left": null
          }
        },
        "e4a22aa4f82b4764ae5ace1fb7acf083": {
          "model_module": "@jupyter-widgets/controls",
          "model_name": "HBoxModel",
          "state": {
            "_view_name": "HBoxView",
            "_dom_classes": [],
            "_model_name": "HBoxModel",
            "_view_module": "@jupyter-widgets/controls",
            "_model_module_version": "1.5.0",
            "_view_count": null,
            "_view_module_version": "1.5.0",
            "box_style": "",
            "layout": "IPY_MODEL_ba0086ce5d5f4e19ba452d6b68bb17cf",
            "_model_module": "@jupyter-widgets/controls",
            "children": [
              "IPY_MODEL_ea77846ba59b470ba8c076bf83d5f008",
              "IPY_MODEL_5dc429ff90bf40638d60c0ea534689b9"
            ]
          }
        },
        "ba0086ce5d5f4e19ba452d6b68bb17cf": {
          "model_module": "@jupyter-widgets/base",
          "model_name": "LayoutModel",
          "state": {
            "_view_name": "LayoutView",
            "grid_template_rows": null,
            "right": null,
            "justify_content": null,
            "_view_module": "@jupyter-widgets/base",
            "overflow": null,
            "_model_module_version": "1.2.0",
            "_view_count": null,
            "flex_flow": null,
            "width": null,
            "min_width": null,
            "border": null,
            "align_items": null,
            "bottom": null,
            "_model_module": "@jupyter-widgets/base",
            "top": null,
            "grid_column": null,
            "overflow_y": null,
            "overflow_x": null,
            "grid_auto_flow": null,
            "grid_area": null,
            "grid_template_columns": null,
            "flex": null,
            "_model_name": "LayoutModel",
            "justify_items": null,
            "grid_row": null,
            "max_height": null,
            "align_content": null,
            "visibility": null,
            "align_self": null,
            "height": null,
            "min_height": null,
            "padding": null,
            "grid_auto_rows": null,
            "grid_gap": null,
            "max_width": null,
            "order": null,
            "_view_module_version": "1.2.0",
            "grid_template_areas": null,
            "object_position": null,
            "object_fit": null,
            "grid_auto_columns": null,
            "margin": null,
            "display": null,
            "left": null
          }
        },
        "ea77846ba59b470ba8c076bf83d5f008": {
          "model_module": "@jupyter-widgets/controls",
          "model_name": "IntProgressModel",
          "state": {
            "_view_name": "ProgressView",
            "style": "IPY_MODEL_9047ab9ad38d46afb556dd1fc43a6765",
            "_dom_classes": [],
            "description": "Downloading: 100%",
            "_model_name": "IntProgressModel",
            "bar_style": "success",
            "max": 433,
            "_view_module": "@jupyter-widgets/controls",
            "_model_module_version": "1.5.0",
            "value": 433,
            "_view_count": null,
            "_view_module_version": "1.5.0",
            "orientation": "horizontal",
            "min": 0,
            "description_tooltip": null,
            "_model_module": "@jupyter-widgets/controls",
            "layout": "IPY_MODEL_d83476fd37284435bdc5d92982300205"
          }
        },
        "5dc429ff90bf40638d60c0ea534689b9": {
          "model_module": "@jupyter-widgets/controls",
          "model_name": "HTMLModel",
          "state": {
            "_view_name": "HTMLView",
            "style": "IPY_MODEL_cdae96c62a96431689fab1576693e8f1",
            "_dom_classes": [],
            "description": "",
            "_model_name": "HTMLModel",
            "placeholder": "​",
            "_view_module": "@jupyter-widgets/controls",
            "_model_module_version": "1.5.0",
            "value": " 433/433 [00:11&lt;00:00, 36.6B/s]",
            "_view_count": null,
            "_view_module_version": "1.5.0",
            "description_tooltip": null,
            "_model_module": "@jupyter-widgets/controls",
            "layout": "IPY_MODEL_f172b42a8ee145a5aac8d7e4a364a30b"
          }
        },
        "9047ab9ad38d46afb556dd1fc43a6765": {
          "model_module": "@jupyter-widgets/controls",
          "model_name": "ProgressStyleModel",
          "state": {
            "_view_name": "StyleView",
            "_model_name": "ProgressStyleModel",
            "description_width": "initial",
            "_view_module": "@jupyter-widgets/base",
            "_model_module_version": "1.5.0",
            "_view_count": null,
            "_view_module_version": "1.2.0",
            "bar_color": null,
            "_model_module": "@jupyter-widgets/controls"
          }
        },
        "d83476fd37284435bdc5d92982300205": {
          "model_module": "@jupyter-widgets/base",
          "model_name": "LayoutModel",
          "state": {
            "_view_name": "LayoutView",
            "grid_template_rows": null,
            "right": null,
            "justify_content": null,
            "_view_module": "@jupyter-widgets/base",
            "overflow": null,
            "_model_module_version": "1.2.0",
            "_view_count": null,
            "flex_flow": null,
            "width": null,
            "min_width": null,
            "border": null,
            "align_items": null,
            "bottom": null,
            "_model_module": "@jupyter-widgets/base",
            "top": null,
            "grid_column": null,
            "overflow_y": null,
            "overflow_x": null,
            "grid_auto_flow": null,
            "grid_area": null,
            "grid_template_columns": null,
            "flex": null,
            "_model_name": "LayoutModel",
            "justify_items": null,
            "grid_row": null,
            "max_height": null,
            "align_content": null,
            "visibility": null,
            "align_self": null,
            "height": null,
            "min_height": null,
            "padding": null,
            "grid_auto_rows": null,
            "grid_gap": null,
            "max_width": null,
            "order": null,
            "_view_module_version": "1.2.0",
            "grid_template_areas": null,
            "object_position": null,
            "object_fit": null,
            "grid_auto_columns": null,
            "margin": null,
            "display": null,
            "left": null
          }
        },
        "cdae96c62a96431689fab1576693e8f1": {
          "model_module": "@jupyter-widgets/controls",
          "model_name": "DescriptionStyleModel",
          "state": {
            "_view_name": "StyleView",
            "_model_name": "DescriptionStyleModel",
            "description_width": "",
            "_view_module": "@jupyter-widgets/base",
            "_model_module_version": "1.5.0",
            "_view_count": null,
            "_view_module_version": "1.2.0",
            "_model_module": "@jupyter-widgets/controls"
          }
        },
        "f172b42a8ee145a5aac8d7e4a364a30b": {
          "model_module": "@jupyter-widgets/base",
          "model_name": "LayoutModel",
          "state": {
            "_view_name": "LayoutView",
            "grid_template_rows": null,
            "right": null,
            "justify_content": null,
            "_view_module": "@jupyter-widgets/base",
            "overflow": null,
            "_model_module_version": "1.2.0",
            "_view_count": null,
            "flex_flow": null,
            "width": null,
            "min_width": null,
            "border": null,
            "align_items": null,
            "bottom": null,
            "_model_module": "@jupyter-widgets/base",
            "top": null,
            "grid_column": null,
            "overflow_y": null,
            "overflow_x": null,
            "grid_auto_flow": null,
            "grid_area": null,
            "grid_template_columns": null,
            "flex": null,
            "_model_name": "LayoutModel",
            "justify_items": null,
            "grid_row": null,
            "max_height": null,
            "align_content": null,
            "visibility": null,
            "align_self": null,
            "height": null,
            "min_height": null,
            "padding": null,
            "grid_auto_rows": null,
            "grid_gap": null,
            "max_width": null,
            "order": null,
            "_view_module_version": "1.2.0",
            "grid_template_areas": null,
            "object_position": null,
            "object_fit": null,
            "grid_auto_columns": null,
            "margin": null,
            "display": null,
            "left": null
          }
        },
        "4eab5705844b41dea83182f1a356b2ec": {
          "model_module": "@jupyter-widgets/controls",
          "model_name": "HBoxModel",
          "state": {
            "_view_name": "HBoxView",
            "_dom_classes": [],
            "_model_name": "HBoxModel",
            "_view_module": "@jupyter-widgets/controls",
            "_model_module_version": "1.5.0",
            "_view_count": null,
            "_view_module_version": "1.5.0",
            "box_style": "",
            "layout": "IPY_MODEL_473e2232fec445e9bb638f2047487090",
            "_model_module": "@jupyter-widgets/controls",
            "children": [
              "IPY_MODEL_95ba3849b07a4c36aae609ab214564d4",
              "IPY_MODEL_effa25bd468846b797abee6877d66fa9"
            ]
          }
        },
        "473e2232fec445e9bb638f2047487090": {
          "model_module": "@jupyter-widgets/base",
          "model_name": "LayoutModel",
          "state": {
            "_view_name": "LayoutView",
            "grid_template_rows": null,
            "right": null,
            "justify_content": null,
            "_view_module": "@jupyter-widgets/base",
            "overflow": null,
            "_model_module_version": "1.2.0",
            "_view_count": null,
            "flex_flow": null,
            "width": null,
            "min_width": null,
            "border": null,
            "align_items": null,
            "bottom": null,
            "_model_module": "@jupyter-widgets/base",
            "top": null,
            "grid_column": null,
            "overflow_y": null,
            "overflow_x": null,
            "grid_auto_flow": null,
            "grid_area": null,
            "grid_template_columns": null,
            "flex": null,
            "_model_name": "LayoutModel",
            "justify_items": null,
            "grid_row": null,
            "max_height": null,
            "align_content": null,
            "visibility": null,
            "align_self": null,
            "height": null,
            "min_height": null,
            "padding": null,
            "grid_auto_rows": null,
            "grid_gap": null,
            "max_width": null,
            "order": null,
            "_view_module_version": "1.2.0",
            "grid_template_areas": null,
            "object_position": null,
            "object_fit": null,
            "grid_auto_columns": null,
            "margin": null,
            "display": null,
            "left": null
          }
        },
        "95ba3849b07a4c36aae609ab214564d4": {
          "model_module": "@jupyter-widgets/controls",
          "model_name": "IntProgressModel",
          "state": {
            "_view_name": "ProgressView",
            "style": "IPY_MODEL_974e11962a7549a4bc13b81c18862443",
            "_dom_classes": [],
            "description": "Downloading: 100%",
            "_model_name": "IntProgressModel",
            "bar_style": "success",
            "max": 440473133,
            "_view_module": "@jupyter-widgets/controls",
            "_model_module_version": "1.5.0",
            "value": 440473133,
            "_view_count": null,
            "_view_module_version": "1.5.0",
            "orientation": "horizontal",
            "min": 0,
            "description_tooltip": null,
            "_model_module": "@jupyter-widgets/controls",
            "layout": "IPY_MODEL_355777e30a3b4dee83818fe0dbd6955a"
          }
        },
        "effa25bd468846b797abee6877d66fa9": {
          "model_module": "@jupyter-widgets/controls",
          "model_name": "HTMLModel",
          "state": {
            "_view_name": "HTMLView",
            "style": "IPY_MODEL_abef993f5066431d9b77f25eb57abdd9",
            "_dom_classes": [],
            "description": "",
            "_model_name": "HTMLModel",
            "placeholder": "​",
            "_view_module": "@jupyter-widgets/controls",
            "_model_module_version": "1.5.0",
            "value": " 440M/440M [00:11&lt;00:00, 39.3MB/s]",
            "_view_count": null,
            "_view_module_version": "1.5.0",
            "description_tooltip": null,
            "_model_module": "@jupyter-widgets/controls",
            "layout": "IPY_MODEL_11953a83618747429f5d914bd210ce20"
          }
        },
        "974e11962a7549a4bc13b81c18862443": {
          "model_module": "@jupyter-widgets/controls",
          "model_name": "ProgressStyleModel",
          "state": {
            "_view_name": "StyleView",
            "_model_name": "ProgressStyleModel",
            "description_width": "initial",
            "_view_module": "@jupyter-widgets/base",
            "_model_module_version": "1.5.0",
            "_view_count": null,
            "_view_module_version": "1.2.0",
            "bar_color": null,
            "_model_module": "@jupyter-widgets/controls"
          }
        },
        "355777e30a3b4dee83818fe0dbd6955a": {
          "model_module": "@jupyter-widgets/base",
          "model_name": "LayoutModel",
          "state": {
            "_view_name": "LayoutView",
            "grid_template_rows": null,
            "right": null,
            "justify_content": null,
            "_view_module": "@jupyter-widgets/base",
            "overflow": null,
            "_model_module_version": "1.2.0",
            "_view_count": null,
            "flex_flow": null,
            "width": null,
            "min_width": null,
            "border": null,
            "align_items": null,
            "bottom": null,
            "_model_module": "@jupyter-widgets/base",
            "top": null,
            "grid_column": null,
            "overflow_y": null,
            "overflow_x": null,
            "grid_auto_flow": null,
            "grid_area": null,
            "grid_template_columns": null,
            "flex": null,
            "_model_name": "LayoutModel",
            "justify_items": null,
            "grid_row": null,
            "max_height": null,
            "align_content": null,
            "visibility": null,
            "align_self": null,
            "height": null,
            "min_height": null,
            "padding": null,
            "grid_auto_rows": null,
            "grid_gap": null,
            "max_width": null,
            "order": null,
            "_view_module_version": "1.2.0",
            "grid_template_areas": null,
            "object_position": null,
            "object_fit": null,
            "grid_auto_columns": null,
            "margin": null,
            "display": null,
            "left": null
          }
        },
        "abef993f5066431d9b77f25eb57abdd9": {
          "model_module": "@jupyter-widgets/controls",
          "model_name": "DescriptionStyleModel",
          "state": {
            "_view_name": "StyleView",
            "_model_name": "DescriptionStyleModel",
            "description_width": "",
            "_view_module": "@jupyter-widgets/base",
            "_model_module_version": "1.5.0",
            "_view_count": null,
            "_view_module_version": "1.2.0",
            "_model_module": "@jupyter-widgets/controls"
          }
        },
        "11953a83618747429f5d914bd210ce20": {
          "model_module": "@jupyter-widgets/base",
          "model_name": "LayoutModel",
          "state": {
            "_view_name": "LayoutView",
            "grid_template_rows": null,
            "right": null,
            "justify_content": null,
            "_view_module": "@jupyter-widgets/base",
            "overflow": null,
            "_model_module_version": "1.2.0",
            "_view_count": null,
            "flex_flow": null,
            "width": null,
            "min_width": null,
            "border": null,
            "align_items": null,
            "bottom": null,
            "_model_module": "@jupyter-widgets/base",
            "top": null,
            "grid_column": null,
            "overflow_y": null,
            "overflow_x": null,
            "grid_auto_flow": null,
            "grid_area": null,
            "grid_template_columns": null,
            "flex": null,
            "_model_name": "LayoutModel",
            "justify_items": null,
            "grid_row": null,
            "max_height": null,
            "align_content": null,
            "visibility": null,
            "align_self": null,
            "height": null,
            "min_height": null,
            "padding": null,
            "grid_auto_rows": null,
            "grid_gap": null,
            "max_width": null,
            "order": null,
            "_view_module_version": "1.2.0",
            "grid_template_areas": null,
            "object_position": null,
            "object_fit": null,
            "grid_auto_columns": null,
            "margin": null,
            "display": null,
            "left": null
          }
        },
        "d27979e5525c47f79eb586dd705eaf52": {
          "model_module": "@jupyter-widgets/controls",
          "model_name": "HBoxModel",
          "state": {
            "_view_name": "HBoxView",
            "_dom_classes": [],
            "_model_name": "HBoxModel",
            "_view_module": "@jupyter-widgets/controls",
            "_model_module_version": "1.5.0",
            "_view_count": null,
            "_view_module_version": "1.5.0",
            "box_style": "",
            "layout": "IPY_MODEL_0de3b7895f784680bac68fe2cb2f2500",
            "_model_module": "@jupyter-widgets/controls",
            "children": [
              "IPY_MODEL_1c3a2997d32240a49bcf43ee5ddd00a2",
              "IPY_MODEL_f21accffaf6a40cbb9e0bc9b52316d34"
            ]
          }
        },
        "0de3b7895f784680bac68fe2cb2f2500": {
          "model_module": "@jupyter-widgets/base",
          "model_name": "LayoutModel",
          "state": {
            "_view_name": "LayoutView",
            "grid_template_rows": null,
            "right": null,
            "justify_content": null,
            "_view_module": "@jupyter-widgets/base",
            "overflow": null,
            "_model_module_version": "1.2.0",
            "_view_count": null,
            "flex_flow": null,
            "width": null,
            "min_width": null,
            "border": null,
            "align_items": null,
            "bottom": null,
            "_model_module": "@jupyter-widgets/base",
            "top": null,
            "grid_column": null,
            "overflow_y": null,
            "overflow_x": null,
            "grid_auto_flow": null,
            "grid_area": null,
            "grid_template_columns": null,
            "flex": null,
            "_model_name": "LayoutModel",
            "justify_items": null,
            "grid_row": null,
            "max_height": null,
            "align_content": null,
            "visibility": null,
            "align_self": null,
            "height": null,
            "min_height": null,
            "padding": null,
            "grid_auto_rows": null,
            "grid_gap": null,
            "max_width": null,
            "order": null,
            "_view_module_version": "1.2.0",
            "grid_template_areas": null,
            "object_position": null,
            "object_fit": null,
            "grid_auto_columns": null,
            "margin": null,
            "display": null,
            "left": null
          }
        },
        "1c3a2997d32240a49bcf43ee5ddd00a2": {
          "model_module": "@jupyter-widgets/controls",
          "model_name": "IntProgressModel",
          "state": {
            "_view_name": "ProgressView",
            "style": "IPY_MODEL_33d66f4ed21245f9963a22e1e5f8b300",
            "_dom_classes": [],
            "description": "Downloading: 100%",
            "_model_name": "IntProgressModel",
            "bar_style": "success",
            "max": 443,
            "_view_module": "@jupyter-widgets/controls",
            "_model_module_version": "1.5.0",
            "value": 443,
            "_view_count": null,
            "_view_module_version": "1.5.0",
            "orientation": "horizontal",
            "min": 0,
            "description_tooltip": null,
            "_model_module": "@jupyter-widgets/controls",
            "layout": "IPY_MODEL_83d8e8eef72548bab0b52001ed3e5efd"
          }
        },
        "f21accffaf6a40cbb9e0bc9b52316d34": {
          "model_module": "@jupyter-widgets/controls",
          "model_name": "HTMLModel",
          "state": {
            "_view_name": "HTMLView",
            "style": "IPY_MODEL_72130c99a9254084925b001bba67f287",
            "_dom_classes": [],
            "description": "",
            "_model_name": "HTMLModel",
            "placeholder": "​",
            "_view_module": "@jupyter-widgets/controls",
            "_model_module_version": "1.5.0",
            "value": " 443/443 [00:00&lt;00:00, 1.27kB/s]",
            "_view_count": null,
            "_view_module_version": "1.5.0",
            "description_tooltip": null,
            "_model_module": "@jupyter-widgets/controls",
            "layout": "IPY_MODEL_18f41ebee5cc42ea8b07ab5606ae137d"
          }
        },
        "33d66f4ed21245f9963a22e1e5f8b300": {
          "model_module": "@jupyter-widgets/controls",
          "model_name": "ProgressStyleModel",
          "state": {
            "_view_name": "StyleView",
            "_model_name": "ProgressStyleModel",
            "description_width": "initial",
            "_view_module": "@jupyter-widgets/base",
            "_model_module_version": "1.5.0",
            "_view_count": null,
            "_view_module_version": "1.2.0",
            "bar_color": null,
            "_model_module": "@jupyter-widgets/controls"
          }
        },
        "83d8e8eef72548bab0b52001ed3e5efd": {
          "model_module": "@jupyter-widgets/base",
          "model_name": "LayoutModel",
          "state": {
            "_view_name": "LayoutView",
            "grid_template_rows": null,
            "right": null,
            "justify_content": null,
            "_view_module": "@jupyter-widgets/base",
            "overflow": null,
            "_model_module_version": "1.2.0",
            "_view_count": null,
            "flex_flow": null,
            "width": null,
            "min_width": null,
            "border": null,
            "align_items": null,
            "bottom": null,
            "_model_module": "@jupyter-widgets/base",
            "top": null,
            "grid_column": null,
            "overflow_y": null,
            "overflow_x": null,
            "grid_auto_flow": null,
            "grid_area": null,
            "grid_template_columns": null,
            "flex": null,
            "_model_name": "LayoutModel",
            "justify_items": null,
            "grid_row": null,
            "max_height": null,
            "align_content": null,
            "visibility": null,
            "align_self": null,
            "height": null,
            "min_height": null,
            "padding": null,
            "grid_auto_rows": null,
            "grid_gap": null,
            "max_width": null,
            "order": null,
            "_view_module_version": "1.2.0",
            "grid_template_areas": null,
            "object_position": null,
            "object_fit": null,
            "grid_auto_columns": null,
            "margin": null,
            "display": null,
            "left": null
          }
        },
        "72130c99a9254084925b001bba67f287": {
          "model_module": "@jupyter-widgets/controls",
          "model_name": "DescriptionStyleModel",
          "state": {
            "_view_name": "StyleView",
            "_model_name": "DescriptionStyleModel",
            "description_width": "",
            "_view_module": "@jupyter-widgets/base",
            "_model_module_version": "1.5.0",
            "_view_count": null,
            "_view_module_version": "1.2.0",
            "_model_module": "@jupyter-widgets/controls"
          }
        },
        "18f41ebee5cc42ea8b07ab5606ae137d": {
          "model_module": "@jupyter-widgets/base",
          "model_name": "LayoutModel",
          "state": {
            "_view_name": "LayoutView",
            "grid_template_rows": null,
            "right": null,
            "justify_content": null,
            "_view_module": "@jupyter-widgets/base",
            "overflow": null,
            "_model_module_version": "1.2.0",
            "_view_count": null,
            "flex_flow": null,
            "width": null,
            "min_width": null,
            "border": null,
            "align_items": null,
            "bottom": null,
            "_model_module": "@jupyter-widgets/base",
            "top": null,
            "grid_column": null,
            "overflow_y": null,
            "overflow_x": null,
            "grid_auto_flow": null,
            "grid_area": null,
            "grid_template_columns": null,
            "flex": null,
            "_model_name": "LayoutModel",
            "justify_items": null,
            "grid_row": null,
            "max_height": null,
            "align_content": null,
            "visibility": null,
            "align_self": null,
            "height": null,
            "min_height": null,
            "padding": null,
            "grid_auto_rows": null,
            "grid_gap": null,
            "max_width": null,
            "order": null,
            "_view_module_version": "1.2.0",
            "grid_template_areas": null,
            "object_position": null,
            "object_fit": null,
            "grid_auto_columns": null,
            "margin": null,
            "display": null,
            "left": null
          }
        },
        "fcf81cbb1c2a4259b36d6b58de2c40f4": {
          "model_module": "@jupyter-widgets/controls",
          "model_name": "HBoxModel",
          "state": {
            "_view_name": "HBoxView",
            "_dom_classes": [],
            "_model_name": "HBoxModel",
            "_view_module": "@jupyter-widgets/controls",
            "_model_module_version": "1.5.0",
            "_view_count": null,
            "_view_module_version": "1.5.0",
            "box_style": "",
            "layout": "IPY_MODEL_c16d9616a0d44078a2a4e11da60267af",
            "_model_module": "@jupyter-widgets/controls",
            "children": [
              "IPY_MODEL_2b5f319764b042fcb90b14d3933fe63b",
              "IPY_MODEL_68a2300090f6400b8a3aaf56bc351498"
            ]
          }
        },
        "c16d9616a0d44078a2a4e11da60267af": {
          "model_module": "@jupyter-widgets/base",
          "model_name": "LayoutModel",
          "state": {
            "_view_name": "LayoutView",
            "grid_template_rows": null,
            "right": null,
            "justify_content": null,
            "_view_module": "@jupyter-widgets/base",
            "overflow": null,
            "_model_module_version": "1.2.0",
            "_view_count": null,
            "flex_flow": null,
            "width": null,
            "min_width": null,
            "border": null,
            "align_items": null,
            "bottom": null,
            "_model_module": "@jupyter-widgets/base",
            "top": null,
            "grid_column": null,
            "overflow_y": null,
            "overflow_x": null,
            "grid_auto_flow": null,
            "grid_area": null,
            "grid_template_columns": null,
            "flex": null,
            "_model_name": "LayoutModel",
            "justify_items": null,
            "grid_row": null,
            "max_height": null,
            "align_content": null,
            "visibility": null,
            "align_self": null,
            "height": null,
            "min_height": null,
            "padding": null,
            "grid_auto_rows": null,
            "grid_gap": null,
            "max_width": null,
            "order": null,
            "_view_module_version": "1.2.0",
            "grid_template_areas": null,
            "object_position": null,
            "object_fit": null,
            "grid_auto_columns": null,
            "margin": null,
            "display": null,
            "left": null
          }
        },
        "2b5f319764b042fcb90b14d3933fe63b": {
          "model_module": "@jupyter-widgets/controls",
          "model_name": "IntProgressModel",
          "state": {
            "_view_name": "ProgressView",
            "style": "IPY_MODEL_f4046d00d35a486486d7f438fcd7b0b4",
            "_dom_classes": [],
            "description": "Downloading: 100%",
            "_model_name": "IntProgressModel",
            "bar_style": "success",
            "max": 231508,
            "_view_module": "@jupyter-widgets/controls",
            "_model_module_version": "1.5.0",
            "value": 231508,
            "_view_count": null,
            "_view_module_version": "1.5.0",
            "orientation": "horizontal",
            "min": 0,
            "description_tooltip": null,
            "_model_module": "@jupyter-widgets/controls",
            "layout": "IPY_MODEL_d8841e2ee4d740ec86d0b792b9c5f50d"
          }
        },
        "68a2300090f6400b8a3aaf56bc351498": {
          "model_module": "@jupyter-widgets/controls",
          "model_name": "HTMLModel",
          "state": {
            "_view_name": "HTMLView",
            "style": "IPY_MODEL_e90bb0f544e444d1b287bb9fc530ccc4",
            "_dom_classes": [],
            "description": "",
            "_model_name": "HTMLModel",
            "placeholder": "​",
            "_view_module": "@jupyter-widgets/controls",
            "_model_module_version": "1.5.0",
            "value": " 232k/232k [00:00&lt;00:00, 2.10MB/s]",
            "_view_count": null,
            "_view_module_version": "1.5.0",
            "description_tooltip": null,
            "_model_module": "@jupyter-widgets/controls",
            "layout": "IPY_MODEL_8b0868c110ba43d1a861002de2089d5b"
          }
        },
        "f4046d00d35a486486d7f438fcd7b0b4": {
          "model_module": "@jupyter-widgets/controls",
          "model_name": "ProgressStyleModel",
          "state": {
            "_view_name": "StyleView",
            "_model_name": "ProgressStyleModel",
            "description_width": "initial",
            "_view_module": "@jupyter-widgets/base",
            "_model_module_version": "1.5.0",
            "_view_count": null,
            "_view_module_version": "1.2.0",
            "bar_color": null,
            "_model_module": "@jupyter-widgets/controls"
          }
        },
        "d8841e2ee4d740ec86d0b792b9c5f50d": {
          "model_module": "@jupyter-widgets/base",
          "model_name": "LayoutModel",
          "state": {
            "_view_name": "LayoutView",
            "grid_template_rows": null,
            "right": null,
            "justify_content": null,
            "_view_module": "@jupyter-widgets/base",
            "overflow": null,
            "_model_module_version": "1.2.0",
            "_view_count": null,
            "flex_flow": null,
            "width": null,
            "min_width": null,
            "border": null,
            "align_items": null,
            "bottom": null,
            "_model_module": "@jupyter-widgets/base",
            "top": null,
            "grid_column": null,
            "overflow_y": null,
            "overflow_x": null,
            "grid_auto_flow": null,
            "grid_area": null,
            "grid_template_columns": null,
            "flex": null,
            "_model_name": "LayoutModel",
            "justify_items": null,
            "grid_row": null,
            "max_height": null,
            "align_content": null,
            "visibility": null,
            "align_self": null,
            "height": null,
            "min_height": null,
            "padding": null,
            "grid_auto_rows": null,
            "grid_gap": null,
            "max_width": null,
            "order": null,
            "_view_module_version": "1.2.0",
            "grid_template_areas": null,
            "object_position": null,
            "object_fit": null,
            "grid_auto_columns": null,
            "margin": null,
            "display": null,
            "left": null
          }
        },
        "e90bb0f544e444d1b287bb9fc530ccc4": {
          "model_module": "@jupyter-widgets/controls",
          "model_name": "DescriptionStyleModel",
          "state": {
            "_view_name": "StyleView",
            "_model_name": "DescriptionStyleModel",
            "description_width": "",
            "_view_module": "@jupyter-widgets/base",
            "_model_module_version": "1.5.0",
            "_view_count": null,
            "_view_module_version": "1.2.0",
            "_model_module": "@jupyter-widgets/controls"
          }
        },
        "8b0868c110ba43d1a861002de2089d5b": {
          "model_module": "@jupyter-widgets/base",
          "model_name": "LayoutModel",
          "state": {
            "_view_name": "LayoutView",
            "grid_template_rows": null,
            "right": null,
            "justify_content": null,
            "_view_module": "@jupyter-widgets/base",
            "overflow": null,
            "_model_module_version": "1.2.0",
            "_view_count": null,
            "flex_flow": null,
            "width": null,
            "min_width": null,
            "border": null,
            "align_items": null,
            "bottom": null,
            "_model_module": "@jupyter-widgets/base",
            "top": null,
            "grid_column": null,
            "overflow_y": null,
            "overflow_x": null,
            "grid_auto_flow": null,
            "grid_area": null,
            "grid_template_columns": null,
            "flex": null,
            "_model_name": "LayoutModel",
            "justify_items": null,
            "grid_row": null,
            "max_height": null,
            "align_content": null,
            "visibility": null,
            "align_self": null,
            "height": null,
            "min_height": null,
            "padding": null,
            "grid_auto_rows": null,
            "grid_gap": null,
            "max_width": null,
            "order": null,
            "_view_module_version": "1.2.0",
            "grid_template_areas": null,
            "object_position": null,
            "object_fit": null,
            "grid_auto_columns": null,
            "margin": null,
            "display": null,
            "left": null
          }
        },
        "ba871d1dbd494eac9076c4779aca9a4f": {
          "model_module": "@jupyter-widgets/controls",
          "model_name": "HBoxModel",
          "state": {
            "_view_name": "HBoxView",
            "_dom_classes": [],
            "_model_name": "HBoxModel",
            "_view_module": "@jupyter-widgets/controls",
            "_model_module_version": "1.5.0",
            "_view_count": null,
            "_view_module_version": "1.5.0",
            "box_style": "",
            "layout": "IPY_MODEL_3c18081a2b7143a8a20afd1d20c19f5e",
            "_model_module": "@jupyter-widgets/controls",
            "children": [
              "IPY_MODEL_45e3e2230f284be79f5dd6e01c073e23",
              "IPY_MODEL_57c0421947e94213aa3ebe2dad5a5454"
            ]
          }
        },
        "3c18081a2b7143a8a20afd1d20c19f5e": {
          "model_module": "@jupyter-widgets/base",
          "model_name": "LayoutModel",
          "state": {
            "_view_name": "LayoutView",
            "grid_template_rows": null,
            "right": null,
            "justify_content": null,
            "_view_module": "@jupyter-widgets/base",
            "overflow": null,
            "_model_module_version": "1.2.0",
            "_view_count": null,
            "flex_flow": null,
            "width": null,
            "min_width": null,
            "border": null,
            "align_items": null,
            "bottom": null,
            "_model_module": "@jupyter-widgets/base",
            "top": null,
            "grid_column": null,
            "overflow_y": null,
            "overflow_x": null,
            "grid_auto_flow": null,
            "grid_area": null,
            "grid_template_columns": null,
            "flex": null,
            "_model_name": "LayoutModel",
            "justify_items": null,
            "grid_row": null,
            "max_height": null,
            "align_content": null,
            "visibility": null,
            "align_self": null,
            "height": null,
            "min_height": null,
            "padding": null,
            "grid_auto_rows": null,
            "grid_gap": null,
            "max_width": null,
            "order": null,
            "_view_module_version": "1.2.0",
            "grid_template_areas": null,
            "object_position": null,
            "object_fit": null,
            "grid_auto_columns": null,
            "margin": null,
            "display": null,
            "left": null
          }
        },
        "45e3e2230f284be79f5dd6e01c073e23": {
          "model_module": "@jupyter-widgets/controls",
          "model_name": "IntProgressModel",
          "state": {
            "_view_name": "ProgressView",
            "style": "IPY_MODEL_2950446290dd4c5bb88e83fc22dd5282",
            "_dom_classes": [],
            "description": "Downloading: 100%",
            "_model_name": "IntProgressModel",
            "bar_style": "success",
            "max": 1340675298,
            "_view_module": "@jupyter-widgets/controls",
            "_model_module_version": "1.5.0",
            "value": 1340675298,
            "_view_count": null,
            "_view_module_version": "1.5.0",
            "orientation": "horizontal",
            "min": 0,
            "description_tooltip": null,
            "_model_module": "@jupyter-widgets/controls",
            "layout": "IPY_MODEL_c725565bfb424e698f178a7704d48f34"
          }
        },
        "57c0421947e94213aa3ebe2dad5a5454": {
          "model_module": "@jupyter-widgets/controls",
          "model_name": "HTMLModel",
          "state": {
            "_view_name": "HTMLView",
            "style": "IPY_MODEL_23abc1adba384f5f876866b932b64b1f",
            "_dom_classes": [],
            "description": "",
            "_model_name": "HTMLModel",
            "placeholder": "​",
            "_view_module": "@jupyter-widgets/controls",
            "_model_module_version": "1.5.0",
            "value": " 1.34G/1.34G [00:31&lt;00:00, 42.8MB/s]",
            "_view_count": null,
            "_view_module_version": "1.5.0",
            "description_tooltip": null,
            "_model_module": "@jupyter-widgets/controls",
            "layout": "IPY_MODEL_ad323c1b5b6e4db9aaeaaabbd8de0814"
          }
        },
        "2950446290dd4c5bb88e83fc22dd5282": {
          "model_module": "@jupyter-widgets/controls",
          "model_name": "ProgressStyleModel",
          "state": {
            "_view_name": "StyleView",
            "_model_name": "ProgressStyleModel",
            "description_width": "initial",
            "_view_module": "@jupyter-widgets/base",
            "_model_module_version": "1.5.0",
            "_view_count": null,
            "_view_module_version": "1.2.0",
            "bar_color": null,
            "_model_module": "@jupyter-widgets/controls"
          }
        },
        "c725565bfb424e698f178a7704d48f34": {
          "model_module": "@jupyter-widgets/base",
          "model_name": "LayoutModel",
          "state": {
            "_view_name": "LayoutView",
            "grid_template_rows": null,
            "right": null,
            "justify_content": null,
            "_view_module": "@jupyter-widgets/base",
            "overflow": null,
            "_model_module_version": "1.2.0",
            "_view_count": null,
            "flex_flow": null,
            "width": null,
            "min_width": null,
            "border": null,
            "align_items": null,
            "bottom": null,
            "_model_module": "@jupyter-widgets/base",
            "top": null,
            "grid_column": null,
            "overflow_y": null,
            "overflow_x": null,
            "grid_auto_flow": null,
            "grid_area": null,
            "grid_template_columns": null,
            "flex": null,
            "_model_name": "LayoutModel",
            "justify_items": null,
            "grid_row": null,
            "max_height": null,
            "align_content": null,
            "visibility": null,
            "align_self": null,
            "height": null,
            "min_height": null,
            "padding": null,
            "grid_auto_rows": null,
            "grid_gap": null,
            "max_width": null,
            "order": null,
            "_view_module_version": "1.2.0",
            "grid_template_areas": null,
            "object_position": null,
            "object_fit": null,
            "grid_auto_columns": null,
            "margin": null,
            "display": null,
            "left": null
          }
        },
        "23abc1adba384f5f876866b932b64b1f": {
          "model_module": "@jupyter-widgets/controls",
          "model_name": "DescriptionStyleModel",
          "state": {
            "_view_name": "StyleView",
            "_model_name": "DescriptionStyleModel",
            "description_width": "",
            "_view_module": "@jupyter-widgets/base",
            "_model_module_version": "1.5.0",
            "_view_count": null,
            "_view_module_version": "1.2.0",
            "_model_module": "@jupyter-widgets/controls"
          }
        },
        "ad323c1b5b6e4db9aaeaaabbd8de0814": {
          "model_module": "@jupyter-widgets/base",
          "model_name": "LayoutModel",
          "state": {
            "_view_name": "LayoutView",
            "grid_template_rows": null,
            "right": null,
            "justify_content": null,
            "_view_module": "@jupyter-widgets/base",
            "overflow": null,
            "_model_module_version": "1.2.0",
            "_view_count": null,
            "flex_flow": null,
            "width": null,
            "min_width": null,
            "border": null,
            "align_items": null,
            "bottom": null,
            "_model_module": "@jupyter-widgets/base",
            "top": null,
            "grid_column": null,
            "overflow_y": null,
            "overflow_x": null,
            "grid_auto_flow": null,
            "grid_area": null,
            "grid_template_columns": null,
            "flex": null,
            "_model_name": "LayoutModel",
            "justify_items": null,
            "grid_row": null,
            "max_height": null,
            "align_content": null,
            "visibility": null,
            "align_self": null,
            "height": null,
            "min_height": null,
            "padding": null,
            "grid_auto_rows": null,
            "grid_gap": null,
            "max_width": null,
            "order": null,
            "_view_module_version": "1.2.0",
            "grid_template_areas": null,
            "object_position": null,
            "object_fit": null,
            "grid_auto_columns": null,
            "margin": null,
            "display": null,
            "left": null
          }
        }
      }
    }
  },
  "cells": [
    {
      "cell_type": "code",
      "metadata": {
        "id": "njTqLF2ditRE",
        "colab_type": "code",
        "colab": {
          "base_uri": "https://localhost:8080/",
          "height": 490
        },
        "outputId": "f6e5bfea-cb71-4fe1-bbc4-edf6a58c9d32"
      },
      "source": [
        "!pip install google-cloud-speech"
      ],
      "execution_count": null,
      "outputs": [
        {
          "output_type": "stream",
          "text": [
            "Collecting google-cloud-speech\n",
            "\u001b[?25l  Downloading https://files.pythonhosted.org/packages/5c/4b/76ec278f9ac5b6a525d222d7539cc473cca41f639a571177301a5115d0b3/google_cloud_speech-1.3.2-py2.py3-none-any.whl (88kB)\n",
            "\r\u001b[K     |███▊                            | 10kB 14.2MB/s eta 0:00:01\r\u001b[K     |███████▍                        | 20kB 1.7MB/s eta 0:00:01\r\u001b[K     |███████████▏                    | 30kB 2.6MB/s eta 0:00:01\r\u001b[K     |██████████████▉                 | 40kB 3.4MB/s eta 0:00:01\r\u001b[K     |██████████████████▋             | 51kB 2.1MB/s eta 0:00:01\r\u001b[K     |██████████████████████▎         | 61kB 2.5MB/s eta 0:00:01\r\u001b[K     |██████████████████████████      | 71kB 2.9MB/s eta 0:00:01\r\u001b[K     |█████████████████████████████▊  | 81kB 3.3MB/s eta 0:00:01\r\u001b[K     |████████████████████████████████| 92kB 2.9MB/s \n",
            "\u001b[?25hRequirement already satisfied: google-api-core[grpc]<2.0.0dev,>=1.14.0 in /usr/local/lib/python3.6/dist-packages (from google-cloud-speech) (1.16.0)\n",
            "Requirement already satisfied: requests<3.0.0dev,>=2.18.0 in /usr/local/lib/python3.6/dist-packages (from google-api-core[grpc]<2.0.0dev,>=1.14.0->google-cloud-speech) (2.23.0)\n",
            "Requirement already satisfied: six>=1.10.0 in /usr/local/lib/python3.6/dist-packages (from google-api-core[grpc]<2.0.0dev,>=1.14.0->google-cloud-speech) (1.12.0)\n",
            "Requirement already satisfied: googleapis-common-protos<2.0dev,>=1.6.0 in /usr/local/lib/python3.6/dist-packages (from google-api-core[grpc]<2.0.0dev,>=1.14.0->google-cloud-speech) (1.51.0)\n",
            "Requirement already satisfied: google-auth<2.0dev,>=0.4.0 in /usr/local/lib/python3.6/dist-packages (from google-api-core[grpc]<2.0.0dev,>=1.14.0->google-cloud-speech) (1.7.2)\n",
            "Requirement already satisfied: pytz in /usr/local/lib/python3.6/dist-packages (from google-api-core[grpc]<2.0.0dev,>=1.14.0->google-cloud-speech) (2018.9)\n",
            "Requirement already satisfied: protobuf>=3.4.0 in /usr/local/lib/python3.6/dist-packages (from google-api-core[grpc]<2.0.0dev,>=1.14.0->google-cloud-speech) (3.10.0)\n",
            "Requirement already satisfied: setuptools>=34.0.0 in /usr/local/lib/python3.6/dist-packages (from google-api-core[grpc]<2.0.0dev,>=1.14.0->google-cloud-speech) (46.1.3)\n",
            "Requirement already satisfied: grpcio<2.0dev,>=1.8.2; extra == \"grpc\" in /usr/local/lib/python3.6/dist-packages (from google-api-core[grpc]<2.0.0dev,>=1.14.0->google-cloud-speech) (1.28.1)\n",
            "Requirement already satisfied: idna<3,>=2.5 in /usr/local/lib/python3.6/dist-packages (from requests<3.0.0dev,>=2.18.0->google-api-core[grpc]<2.0.0dev,>=1.14.0->google-cloud-speech) (2.9)\n",
            "Requirement already satisfied: chardet<4,>=3.0.2 in /usr/local/lib/python3.6/dist-packages (from requests<3.0.0dev,>=2.18.0->google-api-core[grpc]<2.0.0dev,>=1.14.0->google-cloud-speech) (3.0.4)\n",
            "Requirement already satisfied: urllib3!=1.25.0,!=1.25.1,<1.26,>=1.21.1 in /usr/local/lib/python3.6/dist-packages (from requests<3.0.0dev,>=2.18.0->google-api-core[grpc]<2.0.0dev,>=1.14.0->google-cloud-speech) (1.24.3)\n",
            "Requirement already satisfied: certifi>=2017.4.17 in /usr/local/lib/python3.6/dist-packages (from requests<3.0.0dev,>=2.18.0->google-api-core[grpc]<2.0.0dev,>=1.14.0->google-cloud-speech) (2020.4.5.1)\n",
            "Requirement already satisfied: cachetools<3.2,>=2.0.0 in /usr/local/lib/python3.6/dist-packages (from google-auth<2.0dev,>=0.4.0->google-api-core[grpc]<2.0.0dev,>=1.14.0->google-cloud-speech) (3.1.1)\n",
            "Requirement already satisfied: pyasn1-modules>=0.2.1 in /usr/local/lib/python3.6/dist-packages (from google-auth<2.0dev,>=0.4.0->google-api-core[grpc]<2.0.0dev,>=1.14.0->google-cloud-speech) (0.2.8)\n",
            "Requirement already satisfied: rsa<4.1,>=3.1.4 in /usr/local/lib/python3.6/dist-packages (from google-auth<2.0dev,>=0.4.0->google-api-core[grpc]<2.0.0dev,>=1.14.0->google-cloud-speech) (4.0)\n",
            "Requirement already satisfied: pyasn1<0.5.0,>=0.4.6 in /usr/local/lib/python3.6/dist-packages (from pyasn1-modules>=0.2.1->google-auth<2.0dev,>=0.4.0->google-api-core[grpc]<2.0.0dev,>=1.14.0->google-cloud-speech) (0.4.8)\n",
            "Installing collected packages: google-cloud-speech\n",
            "Successfully installed google-cloud-speech-1.3.2\n"
          ],
          "name": "stdout"
        },
        {
          "output_type": "display_data",
          "data": {
            "application/vnd.colab-display-data+json": {
              "pip_warning": {
                "packages": [
                  "google"
                ]
              }
            }
          },
          "metadata": {
            "tags": []
          }
        }
      ]
    },
    {
      "cell_type": "code",
      "metadata": {
        "id": "t0WRuNgki2Tj",
        "colab_type": "code",
        "colab": {
          "base_uri": "https://localhost:8080/",
          "height": 33
        },
        "outputId": "bc5a7bec-d332-4c34-c5bf-324191062894"
      },
      "source": [
        "import os\n",
        "os.environ[\"GOOGLE_APPLICATION_CREDENTIALS\"] = \"./speech-analytics-276121-bffe99894cd8.json\"\n",
        "print('Credendtials from environ: {}'.format(\n",
        "    os.environ.get('GOOGLE_APPLICATION_CREDENTIALS')))"
      ],
      "execution_count": null,
      "outputs": [
        {
          "output_type": "stream",
          "text": [
            "Credendtials from environ: ./speech-analytics-276121-bffe99894cd8.json\n"
          ],
          "name": "stdout"
        }
      ]
    },
    {
      "cell_type": "markdown",
      "metadata": {
        "id": "ISncvcwHJgZv",
        "colab_type": "text"
      },
      "source": [
        "From Below Here is the userful Code"
      ]
    },
    {
      "cell_type": "code",
      "metadata": {
        "id": "Lhx1Wgs0RjHS",
        "colab_type": "code",
        "colab": {
          "base_uri": "https://localhost:8080/",
          "height": 806
        },
        "outputId": "0da32e8c-863e-4fdc-8636-ef1bb42c43ae"
      },
      "source": [
        "!pip install transformers\n",
        "!pip install embeddify"
      ],
      "execution_count": null,
      "outputs": [
        {
          "output_type": "stream",
          "text": [
            "Collecting transformers\n",
            "\u001b[?25l  Downloading https://files.pythonhosted.org/packages/a3/78/92cedda05552398352ed9784908b834ee32a0bd071a9b32de287327370b7/transformers-2.8.0-py3-none-any.whl (563kB)\n",
            "\u001b[K     |████████████████████████████████| 573kB 4.6MB/s \n",
            "\u001b[?25hRequirement already satisfied: tqdm>=4.27 in /usr/local/lib/python3.6/dist-packages (from transformers) (4.38.0)\n",
            "Requirement already satisfied: regex!=2019.12.17 in /usr/local/lib/python3.6/dist-packages (from transformers) (2019.12.20)\n",
            "Requirement already satisfied: dataclasses; python_version < \"3.7\" in /usr/local/lib/python3.6/dist-packages (from transformers) (0.7)\n",
            "Requirement already satisfied: numpy in /usr/local/lib/python3.6/dist-packages (from transformers) (1.18.3)\n",
            "Collecting sacremoses\n",
            "\u001b[?25l  Downloading https://files.pythonhosted.org/packages/7d/34/09d19aff26edcc8eb2a01bed8e98f13a1537005d31e95233fd48216eed10/sacremoses-0.0.43.tar.gz (883kB)\n",
            "\u001b[K     |████████████████████████████████| 890kB 10.8MB/s \n",
            "\u001b[?25hCollecting tokenizers==0.5.2\n",
            "\u001b[?25l  Downloading https://files.pythonhosted.org/packages/d1/3f/73c881ea4723e43c1e9acf317cf407fab3a278daab3a69c98dcac511c04f/tokenizers-0.5.2-cp36-cp36m-manylinux1_x86_64.whl (3.7MB)\n",
            "\u001b[K     |████████████████████████████████| 3.7MB 24.5MB/s \n",
            "\u001b[?25hRequirement already satisfied: boto3 in /usr/local/lib/python3.6/dist-packages (from transformers) (1.13.1)\n",
            "Requirement already satisfied: filelock in /usr/local/lib/python3.6/dist-packages (from transformers) (3.0.12)\n",
            "Collecting sentencepiece\n",
            "\u001b[?25l  Downloading https://files.pythonhosted.org/packages/98/2c/8df20f3ac6c22ac224fff307ebc102818206c53fc454ecd37d8ac2060df5/sentencepiece-0.1.86-cp36-cp36m-manylinux1_x86_64.whl (1.0MB)\n",
            "\u001b[K     |████████████████████████████████| 1.0MB 42.3MB/s \n",
            "\u001b[?25hRequirement already satisfied: requests in /usr/local/lib/python3.6/dist-packages (from transformers) (2.23.0)\n",
            "Requirement already satisfied: six in /usr/local/lib/python3.6/dist-packages (from sacremoses->transformers) (1.12.0)\n",
            "Requirement already satisfied: click in /usr/local/lib/python3.6/dist-packages (from sacremoses->transformers) (7.1.2)\n",
            "Requirement already satisfied: joblib in /usr/local/lib/python3.6/dist-packages (from sacremoses->transformers) (0.14.1)\n",
            "Requirement already satisfied: botocore<1.17.0,>=1.16.1 in /usr/local/lib/python3.6/dist-packages (from boto3->transformers) (1.16.1)\n",
            "Requirement already satisfied: jmespath<1.0.0,>=0.7.1 in /usr/local/lib/python3.6/dist-packages (from boto3->transformers) (0.9.5)\n",
            "Requirement already satisfied: s3transfer<0.4.0,>=0.3.0 in /usr/local/lib/python3.6/dist-packages (from boto3->transformers) (0.3.3)\n",
            "Requirement already satisfied: certifi>=2017.4.17 in /usr/local/lib/python3.6/dist-packages (from requests->transformers) (2020.4.5.1)\n",
            "Requirement already satisfied: urllib3!=1.25.0,!=1.25.1,<1.26,>=1.21.1 in /usr/local/lib/python3.6/dist-packages (from requests->transformers) (1.24.3)\n",
            "Requirement already satisfied: chardet<4,>=3.0.2 in /usr/local/lib/python3.6/dist-packages (from requests->transformers) (3.0.4)\n",
            "Requirement already satisfied: idna<3,>=2.5 in /usr/local/lib/python3.6/dist-packages (from requests->transformers) (2.9)\n",
            "Requirement already satisfied: python-dateutil<3.0.0,>=2.1 in /usr/local/lib/python3.6/dist-packages (from botocore<1.17.0,>=1.16.1->boto3->transformers) (2.8.1)\n",
            "Requirement already satisfied: docutils<0.16,>=0.10 in /usr/local/lib/python3.6/dist-packages (from botocore<1.17.0,>=1.16.1->boto3->transformers) (0.15.2)\n",
            "Building wheels for collected packages: sacremoses\n",
            "  Building wheel for sacremoses (setup.py) ... \u001b[?25l\u001b[?25hdone\n",
            "  Created wheel for sacremoses: filename=sacremoses-0.0.43-cp36-none-any.whl size=893260 sha256=b46de67214da1c0ae703ebf8dd8068e5df6eded67725a2141bb1546dfd999c1d\n",
            "  Stored in directory: /root/.cache/pip/wheels/29/3c/fd/7ce5c3f0666dab31a50123635e6fb5e19ceb42ce38d4e58f45\n",
            "Successfully built sacremoses\n",
            "Installing collected packages: sacremoses, tokenizers, sentencepiece, transformers\n",
            "Successfully installed sacremoses-0.0.43 sentencepiece-0.1.86 tokenizers-0.5.2 transformers-2.8.0\n",
            "Collecting embeddify\n",
            "  Downloading https://files.pythonhosted.org/packages/1b/34/8d851d48875b1b0cd3071ba1c222f72cd24f4f1498e9ad2b05729b1fdfa4/embeddify-0.3.1-py2.py3-none-any.whl\n",
            "Requirement already satisfied: requests in /usr/local/lib/python3.6/dist-packages (from embeddify) (2.23.0)\n",
            "Requirement already satisfied: urllib3!=1.25.0,!=1.25.1,<1.26,>=1.21.1 in /usr/local/lib/python3.6/dist-packages (from requests->embeddify) (1.24.3)\n",
            "Requirement already satisfied: certifi>=2017.4.17 in /usr/local/lib/python3.6/dist-packages (from requests->embeddify) (2020.4.5.1)\n",
            "Requirement already satisfied: chardet<4,>=3.0.2 in /usr/local/lib/python3.6/dist-packages (from requests->embeddify) (3.0.4)\n",
            "Requirement already satisfied: idna<3,>=2.5 in /usr/local/lib/python3.6/dist-packages (from requests->embeddify) (2.9)\n",
            "Installing collected packages: embeddify\n",
            "Successfully installed embeddify-0.3.1\n"
          ],
          "name": "stdout"
        }
      ]
    },
    {
      "cell_type": "code",
      "metadata": {
        "id": "E55rxZGSjyS7",
        "colab_type": "code",
        "colab": {
          "base_uri": "https://localhost:8080/",
          "height": 163,
          "referenced_widgets": [
            "c48ad7afe9f54429b1c2a3bf878494a5",
            "ea4818a68b3849a39a96e76c21052490",
            "54d5e748f14645ab921a53899efb81ff",
            "87ca2dc956334f388791946a2bc1569f",
            "d75ba80b8ca74a3cae438afd92d6ca54",
            "c7699dd7aba14600ae4efce7caa09dc5",
            "10f5a20927a048dfb5a076df36e24e56",
            "77ffdb6518d74aa7847f7d3a4819cc86",
            "e4a22aa4f82b4764ae5ace1fb7acf083",
            "ba0086ce5d5f4e19ba452d6b68bb17cf",
            "ea77846ba59b470ba8c076bf83d5f008",
            "5dc429ff90bf40638d60c0ea534689b9",
            "9047ab9ad38d46afb556dd1fc43a6765",
            "d83476fd37284435bdc5d92982300205",
            "cdae96c62a96431689fab1576693e8f1",
            "f172b42a8ee145a5aac8d7e4a364a30b",
            "4eab5705844b41dea83182f1a356b2ec",
            "473e2232fec445e9bb638f2047487090",
            "95ba3849b07a4c36aae609ab214564d4",
            "effa25bd468846b797abee6877d66fa9",
            "974e11962a7549a4bc13b81c18862443",
            "355777e30a3b4dee83818fe0dbd6955a",
            "abef993f5066431d9b77f25eb57abdd9",
            "11953a83618747429f5d914bd210ce20"
          ]
        },
        "outputId": "2d938c8b-475e-4367-b516-e85842500874"
      },
      "source": [
        "from transformers import BertModel, BertTokenizer\n",
        "import torch\n",
        "\n",
        "tokenizer = BertTokenizer.from_pretrained('bert-base-uncased')\n",
        "model = BertModel.from_pretrained('bert-base-uncased')\n",
        "\n",
        "input_ids = torch.tensor(tokenizer.encode(\"Hello, my dog is cute\", add_special_tokens=True)).unsqueeze(0)  # Batch size 1\n",
        "outputs = model(input_ids)"
      ],
      "execution_count": null,
      "outputs": [
        {
          "output_type": "display_data",
          "data": {
            "application/vnd.jupyter.widget-view+json": {
              "model_id": "c48ad7afe9f54429b1c2a3bf878494a5",
              "version_minor": 0,
              "version_major": 2
            },
            "text/plain": [
              "HBox(children=(IntProgress(value=0, description='Downloading', max=231508, style=ProgressStyle(description_wid…"
            ]
          },
          "metadata": {
            "tags": []
          }
        },
        {
          "output_type": "stream",
          "text": [
            "\n"
          ],
          "name": "stdout"
        },
        {
          "output_type": "display_data",
          "data": {
            "application/vnd.jupyter.widget-view+json": {
              "model_id": "e4a22aa4f82b4764ae5ace1fb7acf083",
              "version_minor": 0,
              "version_major": 2
            },
            "text/plain": [
              "HBox(children=(IntProgress(value=0, description='Downloading', max=433, style=ProgressStyle(description_width=…"
            ]
          },
          "metadata": {
            "tags": []
          }
        },
        {
          "output_type": "stream",
          "text": [
            "\n"
          ],
          "name": "stdout"
        },
        {
          "output_type": "display_data",
          "data": {
            "application/vnd.jupyter.widget-view+json": {
              "model_id": "4eab5705844b41dea83182f1a356b2ec",
              "version_minor": 0,
              "version_major": 2
            },
            "text/plain": [
              "HBox(children=(IntProgress(value=0, description='Downloading', max=440473133, style=ProgressStyle(description_…"
            ]
          },
          "metadata": {
            "tags": []
          }
        },
        {
          "output_type": "stream",
          "text": [
            "\n"
          ],
          "name": "stdout"
        }
      ]
    },
    {
      "cell_type": "code",
      "metadata": {
        "id": "0JaTd0I_j0uB",
        "colab_type": "code",
        "colab": {
          "base_uri": "https://localhost:8080/",
          "height": 1000
        },
        "outputId": "df91d722-a55a-48fa-89be-102298709c15"
      },
      "source": [
        "outputs[1]"
      ],
      "execution_count": null,
      "outputs": [
        {
          "output_type": "execute_result",
          "data": {
            "text/plain": [
              "tensor([[-7.1946e-01, -2.1445e-01, -2.9576e-01,  3.6603e-01,  2.7968e-01,\n",
              "          2.2184e-02,  5.7299e-01,  6.2331e-02,  5.9587e-02, -9.9965e-01,\n",
              "          5.0147e-02,  4.4756e-01,  9.7612e-01,  3.3988e-02,  8.4494e-01,\n",
              "         -3.6905e-01,  9.8650e-02, -3.7169e-01,  1.7371e-01,  1.1515e-01,\n",
              "          4.4133e-01,  9.9525e-01,  3.7221e-01,  8.2881e-02,  2.1402e-01,\n",
              "          6.8965e-01, -6.1042e-01,  8.7136e-01,  9.4158e-01,  5.7372e-01,\n",
              "         -3.2187e-01,  8.6671e-03, -9.8611e-01, -2.0542e-02, -4.3755e-01,\n",
              "         -9.8012e-01,  1.1142e-01, -6.7587e-01,  1.3499e-01,  3.1130e-01,\n",
              "         -8.2997e-01,  1.9006e-01,  9.9896e-01, -3.1798e-01,  2.1517e-02,\n",
              "         -1.6531e-01, -9.9943e-01,  1.0173e-01, -8.1811e-01,  3.3118e-02,\n",
              "          3.6740e-01, -7.3231e-02, -1.4261e-01,  1.8907e-01,  2.6119e-01,\n",
              "          4.1582e-01, -2.4427e-01, -5.9846e-02, -7.3492e-02, -3.4202e-01,\n",
              "         -5.8001e-01,  2.8331e-01, -5.0513e-01, -8.1967e-01,  1.9813e-01,\n",
              "          1.9108e-01,  3.7011e-02, -1.1327e-01,  1.3472e-01, -2.1614e-01,\n",
              "          6.3494e-01,  2.4869e-02,  3.8287e-01, -8.1779e-01, -2.4874e-01,\n",
              "          8.4982e-02, -5.2998e-01,  1.0000e+00, -5.2154e-02, -9.7052e-01,\n",
              "          3.9848e-01,  2.1359e-02,  3.9035e-01,  3.5588e-01, -1.7881e-01,\n",
              "         -9.9997e-01,  2.6939e-01, -3.8057e-02, -9.8657e-01,  6.9322e-02,\n",
              "          3.9138e-01, -2.1884e-02, -9.6332e-02,  3.8545e-01, -3.4136e-01,\n",
              "         -8.0362e-02, -3.2022e-02, -3.6328e-01, -7.8129e-02,  1.9192e-02,\n",
              "         -1.3429e-01, -1.6013e-02, -5.2640e-02, -2.8006e-01,  9.3611e-02,\n",
              "         -2.2885e-01, -1.2305e-01, -1.1002e-01, -3.2808e-01,  4.0356e-01,\n",
              "          2.8048e-01, -2.0102e-01,  2.7685e-01, -9.4023e-01,  4.1756e-01,\n",
              "         -1.5473e-01, -9.7553e-01, -4.3003e-01, -9.8546e-01,  5.9158e-01,\n",
              "          3.7344e-02, -1.9320e-01,  9.1691e-01,  3.6012e-01,  1.4505e-01,\n",
              "          1.5398e-01, -1.0656e-02, -1.0000e+00, -3.1573e-01, -3.1037e-01,\n",
              "          1.6523e-01, -8.0330e-02, -9.6650e-01, -9.4546e-01,  3.6145e-01,\n",
              "          9.0138e-01, -7.2696e-02,  9.9774e-01,  3.7289e-02,  9.3599e-01,\n",
              "          2.5317e-01, -2.0184e-01,  2.9532e-02, -2.3162e-01,  3.4632e-01,\n",
              "         -1.0763e-01, -2.6565e-01,  1.0874e-01,  1.2985e-01,  2.1134e-02,\n",
              "         -9.6283e-02, -7.6357e-02, -6.5149e-02, -8.9277e-01, -2.3465e-01,\n",
              "          9.1176e-01,  7.0430e-02, -2.1429e-01,  3.8197e-01,  3.5892e-02,\n",
              "         -1.6971e-01,  7.0654e-01,  2.4045e-01,  1.5014e-01, -1.9477e-02,\n",
              "          2.1369e-01, -1.7977e-01,  3.5112e-01, -6.0260e-01,  4.1683e-01,\n",
              "          1.8090e-01, -3.2496e-02, -3.0137e-01, -9.7103e-01, -1.3917e-01,\n",
              "          3.5130e-01,  9.8326e-01,  5.2702e-01,  4.8811e-02,  1.3990e-02,\n",
              "         -6.7964e-02,  2.9717e-01, -9.4136e-01,  9.7219e-01, -2.4773e-02,\n",
              "          1.5224e-01, -1.8241e-01,  5.5584e-02, -7.7306e-01, -9.9000e-02,\n",
              "          4.7058e-01, -1.7022e-01, -7.7803e-01,  5.2834e-02, -3.7679e-01,\n",
              "         -4.1296e-02, -4.9612e-01,  1.4171e-01, -1.1803e-01, -1.8995e-01,\n",
              "          5.0384e-02,  9.0623e-01,  7.8828e-01,  5.2288e-01, -3.5274e-01,\n",
              "          2.8563e-01, -8.1494e-01, -1.9622e-01, -9.2975e-02,  5.9311e-02,\n",
              "          3.1902e-02,  9.8860e-01, -3.9452e-01,  1.1867e-01, -8.6977e-01,\n",
              "         -9.7789e-01, -1.4859e-01, -7.7064e-01, -4.0616e-03, -4.1152e-01,\n",
              "          3.2578e-01,  1.8777e-01, -2.4501e-01,  2.6668e-01, -7.9329e-01,\n",
              "         -4.8133e-01,  9.3245e-02, -1.7010e-01,  2.7043e-01, -3.5880e-02,\n",
              "          7.7973e-01,  4.6696e-01, -3.4636e-01,  5.5237e-02,  9.0312e-01,\n",
              "         -2.4115e-01, -6.4200e-01,  4.1441e-01, -9.7797e-02,  6.2983e-01,\n",
              "         -4.1787e-01,  9.4069e-01,  4.9285e-01,  3.6058e-01, -8.7901e-01,\n",
              "         -2.6726e-01, -5.4679e-01,  9.4008e-04, -1.0502e-02, -4.6837e-01,\n",
              "          3.1116e-01,  3.6999e-01,  1.3306e-01,  6.4092e-01, -3.5630e-01,\n",
              "          8.8549e-01, -8.9036e-01, -9.3865e-01, -8.1215e-01,  2.7362e-01,\n",
              "         -9.8566e-01,  4.0362e-01,  2.1223e-01, -1.4316e-01, -2.4553e-01,\n",
              "         -2.1144e-01, -9.4728e-01,  5.0806e-01, -9.6622e-02,  8.5571e-01,\n",
              "         -1.0133e-01, -6.7768e-01, -2.8500e-01, -8.9905e-01, -3.3577e-01,\n",
              "          8.9155e-02,  3.2600e-01, -2.6467e-01, -9.2032e-01,  3.4629e-01,\n",
              "          3.3430e-01,  2.1397e-01,  3.0630e-02,  9.3878e-01,  9.9986e-01,\n",
              "          9.6385e-01,  8.3159e-01,  6.2250e-01, -9.8055e-01, -7.3623e-01,\n",
              "          9.9986e-01, -7.8395e-01, -9.9998e-01, -8.7800e-01, -5.0893e-01,\n",
              "          2.3399e-02, -1.0000e+00, -6.1938e-02,  1.9563e-01, -9.0552e-01,\n",
              "         -1.4008e-01,  9.5264e-01,  7.9837e-01, -1.0000e+00,  7.6343e-01,\n",
              "          8.3670e-01, -4.5859e-01,  5.4410e-01, -2.4073e-01,  9.6085e-01,\n",
              "          1.9164e-01,  3.2135e-01, -1.3064e-02,  2.4534e-01, -5.3001e-01,\n",
              "         -5.9538e-01,  3.7464e-01, -2.1189e-01,  8.8024e-01,  1.9647e-02,\n",
              "         -3.8349e-01, -8.4779e-01,  1.4676e-02, -2.8375e-02, -4.4313e-01,\n",
              "         -9.4966e-01, -6.5704e-02, -7.2328e-02,  6.5967e-01, -1.1504e-01,\n",
              "          2.1876e-01, -5.5254e-01,  9.2218e-02, -5.0583e-01, -5.2826e-02,\n",
              "          5.1425e-01, -8.9533e-01, -1.2744e-01,  9.7846e-02, -6.0145e-01,\n",
              "         -3.1651e-02, -9.5186e-01,  9.4685e-01, -2.2341e-01,  1.8390e-01,\n",
              "          1.0000e+00,  1.1755e-01, -7.0390e-01,  3.2502e-01, -1.0898e-02,\n",
              "         -1.8308e-01,  9.9999e-01,  5.8376e-01, -9.7387e-01, -3.3783e-01,\n",
              "          2.9640e-01, -2.7002e-01, -2.2243e-01,  9.9711e-01,  1.4422e-02,\n",
              "          7.8269e-02,  3.8660e-01,  9.7787e-01, -9.8501e-01,  8.7459e-01,\n",
              "         -7.2276e-01, -9.5249e-01,  9.4567e-01,  9.1005e-01, -5.0722e-01,\n",
              "         -4.9026e-01, -1.2517e-01, -3.9076e-02,  8.8128e-02, -8.2481e-01,\n",
              "          3.8301e-01,  1.8045e-01,  5.4796e-02,  8.0041e-01, -3.3501e-01,\n",
              "         -3.9115e-01,  1.4233e-01, -9.0140e-02,  3.4585e-01,  4.4044e-01,\n",
              "          3.1044e-01, -1.3280e-01, -1.3614e-01, -3.0303e-01, -4.8794e-01,\n",
              "         -9.4950e-01,  1.0887e-01,  1.0000e+00,  6.0752e-02,  8.3374e-02,\n",
              "         -3.1297e-03,  8.5578e-02, -3.1288e-01,  2.6283e-01,  2.6870e-01,\n",
              "         -1.4267e-01, -7.4000e-01,  2.2856e-01, -7.9441e-01, -9.8812e-01,\n",
              "          4.3592e-01,  7.7229e-02, -3.8084e-02,  9.9490e-01,  3.2615e-01,\n",
              "          6.7989e-02,  8.2887e-02,  4.7390e-01, -2.1855e-01,  3.9278e-01,\n",
              "          3.7664e-02,  9.6440e-01, -1.8374e-01,  3.9259e-01,  4.3319e-01,\n",
              "         -1.8618e-01, -2.1584e-01, -4.9610e-01, -9.7025e-02, -8.8006e-01,\n",
              "          2.4995e-01, -9.3940e-01,  9.3827e-01,  3.2001e-01,  1.1919e-01,\n",
              "          7.3959e-02,  3.1272e-02,  1.0000e+00, -7.5631e-01,  3.5396e-01,\n",
              "          5.3290e-01,  3.2035e-01, -9.7538e-01, -4.7482e-01, -2.3322e-01,\n",
              "          3.5377e-02, -4.6059e-02, -1.2863e-01,  8.3798e-02, -9.5139e-01,\n",
              "          3.4661e-02,  4.5213e-03, -8.8296e-01, -9.8300e-01,  1.6468e-01,\n",
              "          3.3595e-01, -1.0217e-01, -7.0275e-01, -4.3307e-01, -5.4169e-01,\n",
              "          1.8883e-01, -5.5797e-02, -9.2162e-01,  4.4790e-01, -3.5256e-02,\n",
              "          2.1131e-01, -4.6267e-02,  4.1688e-01,  1.9311e-01,  8.2643e-01,\n",
              "          3.1897e-02,  1.8036e-02,  2.2502e-02, -5.6261e-01,  5.2690e-01,\n",
              "         -4.1523e-01, -2.0335e-01,  5.0975e-03,  1.0000e+00, -1.3769e-01,\n",
              "          4.0090e-01,  4.8580e-01,  3.0547e-01,  1.0161e-01,  1.1372e-01,\n",
              "          5.4687e-01,  1.7282e-01, -1.1611e-01,  1.1692e-01,  3.3706e-01,\n",
              "         -9.4995e-02,  3.3125e-01, -1.1600e-01,  5.5663e-02,  6.9017e-01,\n",
              "          5.2775e-01, -7.8248e-02,  7.7874e-02, -2.5570e-01,  9.5441e-01,\n",
              "          4.4725e-02,  7.5062e-02, -1.6521e-01,  9.8572e-02, -1.2673e-01,\n",
              "          4.2396e-01,  9.9999e-01,  1.4011e-01, -6.5118e-02, -9.8683e-01,\n",
              "         -3.4659e-01, -6.9549e-01,  9.9968e-01,  7.8693e-01, -6.2560e-01,\n",
              "          4.0561e-01,  5.1398e-01, -7.1926e-03,  3.7469e-01, -4.9920e-02,\n",
              "         -1.8379e-01,  1.0699e-01,  6.4271e-02,  9.4363e-01, -4.5982e-01,\n",
              "         -9.6684e-01, -4.8714e-01,  1.6233e-01, -9.2982e-01,  9.8976e-01,\n",
              "         -2.8241e-01, -3.9526e-02, -2.8969e-01,  2.2178e-01, -7.3322e-01,\n",
              "         -1.9752e-01, -9.7385e-01,  1.4625e-01,  1.7384e-02,  9.4459e-01,\n",
              "          8.0070e-02, -4.1026e-01, -7.2363e-01,  6.5493e-02,  2.9531e-01,\n",
              "         -2.0402e-01, -9.4453e-01,  9.4867e-01, -9.6224e-01,  4.1987e-01,\n",
              "          9.9992e-01,  2.0182e-01, -5.9719e-01,  6.7061e-02, -1.3560e-01,\n",
              "          1.1140e-01, -7.1070e-02,  3.3843e-01, -9.1928e-01, -1.1785e-01,\n",
              "          7.1904e-03,  9.3812e-02,  1.2718e-01, -4.2175e-01,  6.2383e-01,\n",
              "         -3.0948e-02, -3.9573e-01, -4.9911e-01,  1.9713e-01,  1.9574e-01,\n",
              "          5.2774e-01, -6.4998e-02,  3.8218e-02, -1.3764e-01,  1.3114e-01,\n",
              "         -8.2896e-01, -6.2801e-02, -1.3077e-01, -9.9745e-01,  3.8189e-01,\n",
              "         -1.0000e+00, -4.9528e-02, -3.3011e-01, -9.7047e-03,  7.4031e-01,\n",
              "          4.5588e-01, -4.3039e-02, -5.9485e-01,  3.5139e-02,  8.4290e-01,\n",
              "          7.0024e-01,  4.9505e-03,  1.5221e-01, -4.8182e-01,  3.4912e-02,\n",
              "          6.8681e-02,  5.9797e-02,  9.4147e-02,  5.7532e-01,  3.5063e-02,\n",
              "          1.0000e+00, -4.4786e-03, -3.4757e-01, -7.9309e-01,  5.7241e-02,\n",
              "         -4.8241e-02,  9.9991e-01, -3.6963e-01, -9.2729e-01,  2.2610e-01,\n",
              "         -3.2602e-01, -6.5948e-01,  2.3506e-01, -6.6027e-02, -6.2875e-01,\n",
              "         -4.7124e-01,  8.3105e-01,  4.3462e-01, -5.2237e-01,  2.1811e-01,\n",
              "         -1.1176e-01, -2.7027e-01, -6.8502e-02,  5.0502e-02,  9.8319e-01,\n",
              "          3.3888e-01,  5.6442e-01,  1.0517e-01,  6.1442e-02,  9.3666e-01,\n",
              "          7.3988e-02, -2.4528e-01, -8.5207e-02,  9.9998e-01,  1.4210e-01,\n",
              "         -8.2488e-01,  2.2405e-01, -9.2098e-01, -1.0235e-01, -8.4105e-01,\n",
              "          2.1140e-01, -3.4107e-02,  8.0942e-01,  4.9842e-03,  8.9624e-01,\n",
              "          6.7186e-02, -1.7137e-01, -2.7561e-01,  2.6385e-01,  1.9073e-01,\n",
              "         -8.6307e-01, -9.8238e-01, -9.8035e-01,  2.2370e-01, -3.5154e-01,\n",
              "          1.9181e-01,  8.9503e-02, -9.8139e-02,  8.3593e-02,  3.0373e-01,\n",
              "         -9.9998e-01,  9.0944e-01,  2.9007e-01,  4.4585e-01,  9.4631e-01,\n",
              "          4.1260e-01,  1.9621e-01,  2.4693e-01, -9.7562e-01, -7.6957e-01,\n",
              "         -1.7996e-01, -5.8601e-02,  4.2949e-01,  3.3341e-01,  8.0547e-01,\n",
              "          2.5306e-01, -4.0736e-01, -3.4586e-02,  4.1000e-01, -8.3874e-01,\n",
              "         -9.9092e-01,  3.0937e-01,  3.3917e-01, -6.2679e-01,  9.4565e-01,\n",
              "         -5.9613e-01, -1.9438e-03,  3.7971e-01, -2.2250e-01,  5.2158e-01,\n",
              "          5.9324e-01, -1.8357e-02, -6.8000e-03,  2.1554e-01,  8.2484e-01,\n",
              "          8.0068e-01,  9.7795e-01, -1.0868e-01,  4.3963e-01,  2.2388e-01,\n",
              "          2.7078e-01,  8.5065e-01, -9.2567e-01,  4.3628e-03, -3.2063e-02,\n",
              "         -1.9565e-01,  1.1169e-01, -9.4711e-02, -7.2644e-01,  6.3986e-01,\n",
              "         -1.7955e-01,  4.2939e-01, -2.0787e-01,  2.2294e-01, -2.3857e-01,\n",
              "          6.7195e-02, -5.1772e-01, -3.6389e-01,  5.3170e-01,  5.3484e-02,\n",
              "          8.5309e-01,  6.4611e-01,  1.2341e-02, -2.4756e-01,  1.4719e-02,\n",
              "         -5.3293e-02, -9.2566e-01,  5.0771e-01,  1.2492e-01,  2.1458e-01,\n",
              "         -6.7960e-02, -2.7113e-01,  9.0946e-01, -1.9032e-01, -2.1274e-01,\n",
              "         -6.4846e-02, -4.3871e-01,  6.3752e-01, -2.1017e-01, -2.9291e-01,\n",
              "         -3.1616e-01,  5.4117e-01,  1.6768e-01,  9.9424e-01, -9.4508e-02,\n",
              "         -2.9022e-01, -2.1879e-03, -1.5720e-01,  2.8317e-01, -2.9364e-01,\n",
              "         -9.9998e-01,  1.4066e-01,  9.1606e-02,  1.1457e-01, -2.1965e-01,\n",
              "          3.0746e-01, -5.7719e-02, -8.7692e-01, -9.3891e-02,  2.2809e-01,\n",
              "          3.8766e-02, -3.2828e-01, -3.1138e-01,  4.1117e-01,  4.6004e-01,\n",
              "          5.5266e-01,  7.2535e-01,  2.5635e-01,  5.2958e-01,  4.7964e-01,\n",
              "         -1.0402e-01, -5.4204e-01,  8.4934e-01]], grad_fn=<TanhBackward>)"
            ]
          },
          "metadata": {
            "tags": []
          },
          "execution_count": 8
        }
      ]
    },
    {
      "cell_type": "code",
      "metadata": {
        "id": "SHJuYAInpRGL",
        "colab_type": "code",
        "colab": {
          "base_uri": "https://localhost:8080/",
          "height": 163,
          "referenced_widgets": [
            "d27979e5525c47f79eb586dd705eaf52",
            "0de3b7895f784680bac68fe2cb2f2500",
            "1c3a2997d32240a49bcf43ee5ddd00a2",
            "f21accffaf6a40cbb9e0bc9b52316d34",
            "33d66f4ed21245f9963a22e1e5f8b300",
            "83d8e8eef72548bab0b52001ed3e5efd",
            "72130c99a9254084925b001bba67f287",
            "18f41ebee5cc42ea8b07ab5606ae137d",
            "fcf81cbb1c2a4259b36d6b58de2c40f4",
            "c16d9616a0d44078a2a4e11da60267af",
            "2b5f319764b042fcb90b14d3933fe63b",
            "68a2300090f6400b8a3aaf56bc351498",
            "f4046d00d35a486486d7f438fcd7b0b4",
            "d8841e2ee4d740ec86d0b792b9c5f50d",
            "e90bb0f544e444d1b287bb9fc530ccc4",
            "8b0868c110ba43d1a861002de2089d5b",
            "ba871d1dbd494eac9076c4779aca9a4f",
            "3c18081a2b7143a8a20afd1d20c19f5e",
            "45e3e2230f284be79f5dd6e01c073e23",
            "57c0421947e94213aa3ebe2dad5a5454",
            "2950446290dd4c5bb88e83fc22dd5282",
            "c725565bfb424e698f178a7704d48f34",
            "23abc1adba384f5f876866b932b64b1f",
            "ad323c1b5b6e4db9aaeaaabbd8de0814"
          ]
        },
        "outputId": "8a2de915-5274-499e-83ab-c25feb24194f"
      },
      "source": [
        "from transformers import AutoTokenizer, AutoModelForQuestionAnswering\n",
        "import torch\n",
        "\n",
        "tokenizer = AutoTokenizer.from_pretrained(\"bert-large-uncased-whole-word-masking-finetuned-squad\")\n",
        "model = AutoModelForQuestionAnswering.from_pretrained(\"bert-large-uncased-whole-word-masking-finetuned-squad\")\n"
      ],
      "execution_count": null,
      "outputs": [
        {
          "output_type": "display_data",
          "data": {
            "application/vnd.jupyter.widget-view+json": {
              "model_id": "d27979e5525c47f79eb586dd705eaf52",
              "version_minor": 0,
              "version_major": 2
            },
            "text/plain": [
              "HBox(children=(IntProgress(value=0, description='Downloading', max=443, style=ProgressStyle(description_width=…"
            ]
          },
          "metadata": {
            "tags": []
          }
        },
        {
          "output_type": "stream",
          "text": [
            "\n"
          ],
          "name": "stdout"
        },
        {
          "output_type": "display_data",
          "data": {
            "application/vnd.jupyter.widget-view+json": {
              "model_id": "fcf81cbb1c2a4259b36d6b58de2c40f4",
              "version_minor": 0,
              "version_major": 2
            },
            "text/plain": [
              "HBox(children=(IntProgress(value=0, description='Downloading', max=231508, style=ProgressStyle(description_wid…"
            ]
          },
          "metadata": {
            "tags": []
          }
        },
        {
          "output_type": "stream",
          "text": [
            "\n"
          ],
          "name": "stdout"
        },
        {
          "output_type": "display_data",
          "data": {
            "application/vnd.jupyter.widget-view+json": {
              "model_id": "ba871d1dbd494eac9076c4779aca9a4f",
              "version_minor": 0,
              "version_major": 2
            },
            "text/plain": [
              "HBox(children=(IntProgress(value=0, description='Downloading', max=1340675298, style=ProgressStyle(description…"
            ]
          },
          "metadata": {
            "tags": []
          }
        },
        {
          "output_type": "stream",
          "text": [
            "\n"
          ],
          "name": "stdout"
        }
      ]
    },
    {
      "cell_type": "code",
      "metadata": {
        "id": "03-Dzly1tbFm",
        "colab_type": "code",
        "colab": {
          "base_uri": "https://localhost:8080/",
          "height": 288
        },
        "outputId": "bcebf2fe-8ef7-4e17-d439-8ab5185bd69f"
      },
      "source": [
        "# -*- coding: utf-8 -*-\n",
        "#\n",
        "# Copyright 2020 Google LLC\n",
        "#\n",
        "# Licensed under the Apache License, Version 2.0 (the \"License\");\n",
        "# you may not use this file except in compliance with the License.\n",
        "# You may obtain a copy of the License at\n",
        "#\n",
        "#     https://www.apache.org/licenses/LICENSE-2.0\n",
        "#\n",
        "# Unless required by applicable law or agreed to in writing, software\n",
        "# distributed under the License is distributed on an \"AS IS\" BASIS,\n",
        "# WITHOUT WARRANTIES OR CONDITIONS OF ANY KIND, either express or implied.\n",
        "# See the License for the specific language governing permissions and\n",
        "# limitations under the License.\n",
        "\n",
        "# DO NOT EDIT! This is a generated sample (\"LongRunningPromise\",  \"speech_transcribe_async_gcs\")\n",
        "\n",
        "# To install the latest published package dependency, execute the following:\n",
        "#   pip install google-cloud-speech\n",
        "\n",
        "# sample-metadata\n",
        "#   title: Transcript Audio File using Long Running Operation (Cloud Storage) (LRO)\n",
        "#   description: Transcribe long audio file from Cloud Storage using asynchronous speech\n",
        "#     recognition\n",
        "#   usage: python3 samples/v1/speech_transcribe_async_gcs.py [--storage_uri \"gs://cloud-samples-data/speech/brooklyn_bridge.raw\"]\n",
        "\n",
        "# [START speech_transcribe_async_gcs]\n",
        "\n",
        "\n",
        "\n",
        "#covert mp4 to raw file\n",
        "\n",
        "#ffmpeg -i C:\\Users\\piyus\\Desktop\\test.mp4 -f s16le -acodec pcm_s16le -vn -ac 1 -ar 16k C:\\Users\\piyus\\Desktop\\ML.raw\n",
        "\n",
        "\n",
        "# upload file to gcs bucket \n",
        "\n",
        "# from google.cloud import storage\n",
        "\n",
        "\n",
        "# def upload_blob(bucket_name, source_file_name, destination_blob_name):\n",
        "#     \"\"\"Uploads a file to the bucket.\"\"\"\n",
        "#     # bucket_name = \"your-bucket-name\"\n",
        "#     # source_file_name = \"local/path/to/file\"\n",
        "#     # destination_blob_name = \"storage-object-name\"\n",
        "\n",
        "#     storage_client = storage.Client()\n",
        "#     bucket = storage_client.bucket(bucket_name)\n",
        "#     blob = bucket.blob(destination_blob_name)\n",
        "\n",
        "#     blob.upload_from_filename(source_file_name)\n",
        "\n",
        "#     print(\n",
        "#         \"File {} uploaded to {}.\".format(\n",
        "#             source_file_name, destination_blob_name\n",
        "#         )\n",
        "#     )\n",
        "\n",
        "import os\n",
        "os.environ[\"GOOGLE_APPLICATION_CREDENTIALS\"] = \"./speech-analytics-276121-bffe99894cd8.json\"\n",
        "print('Credendtials from environ: {}'.format(\n",
        "    os.environ.get('GOOGLE_APPLICATION_CREDENTIALS')))\n",
        "\n",
        "\n",
        "\n",
        "\n",
        "from google.cloud import speech_v1p1beta1\n",
        "from google.cloud.speech_v1p1beta1 import enums\n",
        "from datetime import datetime\n",
        "\n",
        "def sample_long_running_recognize(storage_uri):\n",
        "    \"\"\"\n",
        "    Transcribe long audio file from Cloud Storage using asynchronous speech\n",
        "    recognition\n",
        "\n",
        "    Args:\n",
        "      storage_uri URI for audio file in Cloud Storage, e.g. gs://[BUCKET]/[FILE]\n",
        "    \"\"\"\n",
        "    output = {}\n",
        "    client = speech_v1p1beta1.SpeechClient()\n",
        "\n",
        "    # storage_uri = 'gs://cloud-samples-data/speech/brooklyn_bridge.raw'\n",
        "\n",
        "    # Sample rate in Hertz of the audio data sent\n",
        "    sample_rate_hertz = 16000\n",
        "\n",
        "    # The language of the supplied audio\n",
        "    language_code = \"en-US\"\n",
        "\n",
        "    # Encoding of audio data sent. This sample sets this explicitly.\n",
        "    # This field is optional for FLAC and WAV audio formats.\n",
        "    encoding = enums.RecognitionConfig.AudioEncoding.LINEAR16\n",
        "    config = {\n",
        "        \"language_code\": language_code,\n",
        "        \"enable_word_time_offsets\": True,\n",
        "        \"enable_word_confidence\": True,\n",
        "        \"sample_rate_hertz\": sample_rate_hertz,\n",
        "        \"encoding\": encoding,\n",
        "    }\n",
        "    audio = {\"uri\": storage_uri}\n",
        "    output_text = ''\n",
        "    operation = client.long_running_recognize(config, audio)\n",
        "\n",
        "    print(u\"Waiting for operation to complete...\")\n",
        "    response = operation.result()\n",
        "\n",
        "    for result in response.results:\n",
        "        # First alternative is the most probable result\n",
        "        alternative = result.alternatives[0]\n",
        "        for word in alternative.words:\n",
        "          output[word.word]= {\n",
        "                           'start': [word.start_time.seconds, word.start_time.nanos],  \n",
        "                           'end':[word.end_time.seconds, word.end_time.nanos],\n",
        "                           'confidence': [word.confidence]\n",
        "          }\n",
        "          # print(u\"Word: {}\".format(word.word))\n",
        "          # print(u\"Confidence: {}\".format(word.confidence))\n",
        "          # print(\n",
        "          #     u\"Start time: {} seconds {} nanos\".format(\n",
        "          #         word.start_time.seconds, word.start_time.nanos\n",
        "          #     )\n",
        "          # )\n",
        "          # print(\n",
        "          #     u\"End time: {} seconds {} nanos\".format(\n",
        "          #         word.end_time.seconds, word.end_time.nanos\n",
        "          #     )\n",
        "          # )\n",
        "\n",
        "        print(u\"\\nTranscript: {}\".format(alternative.transcript))\n",
        "        output_text = output_text +'\\n' + alternative.transcript \n",
        "    return output, output_text\n",
        "\n",
        "\n",
        "# [END speech_transcribe_async_gcs]\n",
        "start = datetime.now()\n",
        "# find remainder python\n",
        "#https://www.youtube.com/watch?time_continue=14&v=dW1p2oYlGaY&feature=emb_logo\n",
        "video_url = 'https://www.youtube.com/watch?v=pSEA6Z7PD94'\n",
        "output, output_text = sample_long_running_recognize(\"gs://piyushspeechbucket/geometry.raw\")\n",
        "end = datetime.now()\n",
        "print('\\n')\n",
        "print('-------------')\n",
        "print(end - start)\n",
        "print('\\n')\n",
        "print(output_text)\n"
      ],
      "execution_count": null,
      "outputs": [
        {
          "output_type": "stream",
          "text": [
            "Credendtials from environ: ./speech-analytics-276121-bffe99894cd8.json\n",
            "Waiting for operation to complete...\n",
            "\n",
            "Transcript: hi my name is Maryam a mathematician and today we're going to talk about the difference between euclidean and non-euclidean geometry euclidean geometry is the geometry that you all know and love from school and non-euclidean there is many different kinds of the two main ones are spherical and hyperbolic so we're going to focus on the one main thing that makes him very different and that's the parallel postulate so and you couldn't geometry I'm told that if I have a line and I have any point through that point there's only going to be one line that is parallel to the given line and they're not going to intersect so you couldn't tell if she tells me that if I have a line and I have a appointment through that point there will only be one line that I can draw that's going to be parallel to that given line. To put in when I'm talking about non-euclidean geometry\n",
            "\n",
            "Transcript: spherical tells me that there are no such lines so if I'm given a line when given a point there are no such lines through which there is no such points which line will pass and it'll be parallel to one that was given and then hyperbolic tells me they're actually more than one that there are at least two lines that are going to be parallel to the one that I was already given so that's the main different parallel postulate of euclidean geometry is the one that we all know one use for school which tells us that there are only one parallel line going through a given point that's going to be part of the line parallel to the given line and euclidean says that I wasn't there either none depending on which way you look at or even more than one so those are the main differences my name is Maria and I just told you the difference between euclidean and non-euclidean geometry\n",
            "\n",
            "\n",
            "-------------\n",
            "0:00:45.478483\n",
            "\n",
            "\n",
            "\n",
            "hi my name is Maryam a mathematician and today we're going to talk about the difference between euclidean and non-euclidean geometry euclidean geometry is the geometry that you all know and love from school and non-euclidean there is many different kinds of the two main ones are spherical and hyperbolic so we're going to focus on the one main thing that makes him very different and that's the parallel postulate so and you couldn't geometry I'm told that if I have a line and I have any point through that point there's only going to be one line that is parallel to the given line and they're not going to intersect so you couldn't tell if she tells me that if I have a line and I have a appointment through that point there will only be one line that I can draw that's going to be parallel to that given line. To put in when I'm talking about non-euclidean geometry\n",
            "spherical tells me that there are no such lines so if I'm given a line when given a point there are no such lines through which there is no such points which line will pass and it'll be parallel to one that was given and then hyperbolic tells me they're actually more than one that there are at least two lines that are going to be parallel to the one that I was already given so that's the main different parallel postulate of euclidean geometry is the one that we all know one use for school which tells us that there are only one parallel line going through a given point that's going to be part of the line parallel to the given line and euclidean says that I wasn't there either none depending on which way you look at or even more than one so those are the main differences my name is Maria and I just told you the difference between euclidean and non-euclidean geometry\n"
          ],
          "name": "stdout"
        }
      ]
    },
    {
      "cell_type": "code",
      "metadata": {
        "id": "8ceYMkc951o5",
        "colab_type": "code",
        "colab": {
          "base_uri": "https://localhost:8080/",
          "height": 87
        },
        "outputId": "a0d458e3-2638-4da3-b96c-f4e00553c72c"
      },
      "source": [
        "print(output_text)"
      ],
      "execution_count": null,
      "outputs": [
        {
          "output_type": "stream",
          "text": [
            "\n",
            "hi my name is Maryam a mathematician and today we're going to talk about the difference between euclidean and non-euclidean geometry euclidean geometry is the geometry that you all know and love from school and non-euclidean there is many different kinds of the two main ones are spherical and hyperbolic so we're going to focus on the one main thing that makes him very different and that's the parallel postulate so and you couldn't geometry I'm told that if I have a line and I have any point through that point there's only going to be one line that is parallel to the given line and they're not going to intersect so you couldn't tell if she tells me that if I have a line and I have a appointment through that point there will only be one line that I can draw that's going to be parallel to that given line. To put in when I'm talking about non-euclidean geometry\n",
            "spherical tells me that there are no such lines so if I'm given a line when given a point there are no such lines through which there is no such points which line will pass and it'll be parallel to one that was given and then hyperbolic tells me they're actually more than one that there are at least two lines that are going to be parallel to the one that I was already given so that's the main different parallel postulate of euclidean geometry is the one that we all know one use for school which tells us that there are only one parallel line going through a given point that's going to be part of the line parallel to the given line and euclidean says that I wasn't there either none depending on which way you look at or even more than one so those are the main differences my name is Maria and I just told you the difference between euclidean and non-euclidean geometry\n"
          ],
          "name": "stdout"
        }
      ]
    },
    {
      "cell_type": "code",
      "metadata": {
        "id": "yX8bycftpYA1",
        "colab_type": "code",
        "colab": {
          "base_uri": "https://localhost:8080/",
          "height": 67
        },
        "outputId": "e04aea12-7084-4712-d06a-282d186aef26"
      },
      "source": [
        "questions = [\n",
        "    \"What is non-euclidean geometry?\"\n",
        "]\n",
        "\n",
        "for question in questions:\n",
        "    inputs = tokenizer.encode_plus(question, output_text, add_special_tokens=True, return_tensors=\"pt\")\n",
        "    input_ids = inputs[\"input_ids\"].tolist()[0]\n",
        "\n",
        "    text_tokens = tokenizer.convert_ids_to_tokens(input_ids)\n",
        "    answer_start_scores, answer_end_scores = model(**inputs)\n",
        "\n",
        "    answer_start = torch.argmax(\n",
        "        answer_start_scores\n",
        "    )  # Get the most likely beginning of answer with the argmax of the score\n",
        "    answer_end = torch.argmax(answer_end_scores) + 1  # Get the most likely end of answer with the argmax of the score\n",
        "\n",
        "    answer = tokenizer.convert_tokens_to_string(tokenizer.convert_ids_to_tokens(input_ids[answer_start:answer_end]))\n",
        "\n",
        "    print(f\"Question: {question}\")\n",
        "    print(f\"Answer: {answer}\\n\")"
      ],
      "execution_count": null,
      "outputs": [
        {
          "output_type": "stream",
          "text": [
            "Question: What is non-euclidean geometry?\n",
            "Answer: spherical and hyperbolic\n",
            "\n"
          ],
          "name": "stdout"
        }
      ]
    },
    {
      "cell_type": "code",
      "metadata": {
        "id": "noi75IXEIsSM",
        "colab_type": "code",
        "colab": {
          "base_uri": "https://localhost:8080/",
          "height": 33
        },
        "outputId": "7a4cac61-2208-45e2-e7bc-6f265d04fe2e"
      },
      "source": [
        "answer.split()[0]"
      ],
      "execution_count": null,
      "outputs": [
        {
          "output_type": "execute_result",
          "data": {
            "text/plain": [
              "'spherical'"
            ]
          },
          "metadata": {
            "tags": []
          },
          "execution_count": 58
        }
      ]
    },
    {
      "cell_type": "code",
      "metadata": {
        "id": "NHBro_cCJBdj",
        "colab_type": "code",
        "colab": {
          "base_uri": "https://localhost:8080/",
          "height": 67
        },
        "outputId": "d562fd09-c4c9-4bb4-95cb-8cb1d559eb25"
      },
      "source": [
        "output[answer.split()[0]]"
      ],
      "execution_count": null,
      "outputs": [
        {
          "output_type": "execute_result",
          "data": {
            "text/plain": [
              "{'confidence': [0.9876290559768677],\n",
              " 'end': [54, 100000000],\n",
              " 'start': [53, 400000000]}"
            ]
          },
          "metadata": {
            "tags": []
          },
          "execution_count": 65
        }
      ]
    },
    {
      "cell_type": "code",
      "metadata": {
        "id": "n6xIUP9hPywZ",
        "colab_type": "code",
        "colab": {
          "base_uri": "https://localhost:8080/",
          "height": 33
        },
        "outputId": "6d99ed26-c196-4bce-abc3-0aa36beb0f5b"
      },
      "source": [
        "output[answer.split()[0]]['start'][0]"
      ],
      "execution_count": null,
      "outputs": [
        {
          "output_type": "execute_result",
          "data": {
            "text/plain": [
              "53"
            ]
          },
          "metadata": {
            "tags": []
          },
          "execution_count": 69
        }
      ]
    },
    {
      "cell_type": "code",
      "metadata": {
        "id": "x1IJqEAAO8eD",
        "colab_type": "code",
        "colab": {
          "base_uri": "https://localhost:8080/",
          "height": 336
        },
        "outputId": "6fcb524f-a798-487f-efc0-f4e98a07e592"
      },
      "source": [
        "from embeddify import Embedder\n",
        "from IPython.display import IFrame, display, HTML\n",
        "embedder = Embedder()\n",
        "video_url = 'https://www.youtube.com/watch?v=pSEA6Z7PD94'\n",
        "totalSeconds = output[answer.split()[0]]['start'][0]\n",
        "minutes = totalSeconds // 60\n",
        "seconds = totalSeconds % 60\n",
        "\n",
        "display(HTML(embedder(video_url + '#t=' + str(minutes) +'m' + str(seconds) + 's')))"
      ],
      "execution_count": null,
      "outputs": [
        {
          "output_type": "display_data",
          "data": {
            "text/html": [
              "<iframe width=\"560\" height=\"315\" src=\"https://www.youtube.com/embed/pSEA6Z7PD94?start=53&feature=oembed\" frameborder=\"0\" allow=\"accelerometer; autoplay; encrypted-media; gyroscope; picture-in-picture\" allowfullscreen></iframe>"
            ],
            "text/plain": [
              "<IPython.core.display.HTML object>"
            ]
          },
          "metadata": {
            "tags": []
          }
        }
      ]
    }
  ]
}